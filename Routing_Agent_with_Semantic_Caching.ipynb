{
  "cells": [
    {
      "cell_type": "markdown",
      "metadata": {
        "id": "view-in-github",
        "colab_type": "text"
      },
      "source": [
        "<a href=\"https://colab.research.google.com/github/aswinaus/Agents/blob/main/Routing_Agent_with_Semantic_Caching.ipynb\" target=\"_parent\"><img src=\"https://colab.research.google.com/assets/colab-badge.svg\" alt=\"Open In Colab\"/></a>"
      ]
    },
    {
      "cell_type": "code",
      "execution_count": 9,
      "metadata": {
        "id": "gL0ehB688W7m"
      },
      "outputs": [],
      "source": [
        "!pip install llama-index -q\n",
        "!pip install llama-index-tools-wolfram-alpha -q\n",
        "!pip install langchain -q\n",
        "!pip install langchain_experimental -q"
      ]
    },
    {
      "cell_type": "code",
      "execution_count": 10,
      "metadata": {
        "id": "OnJM1Js08cA6"
      },
      "outputs": [],
      "source": [
        "import os\n",
        "import nest_asyncio\n",
        "nest_asyncio.apply()"
      ]
    },
    {
      "cell_type": "code",
      "execution_count": 11,
      "metadata": {
        "id": "BIjCyWxu8eTZ"
      },
      "outputs": [],
      "source": [
        "from google.colab import userdata\n",
        "# Set the OpenAI API key as an environment variable\n",
        "os.environ[\"OPENAI_API_KEY\"] =  userdata.get('OPENAI_API_KEY')"
      ]
    },
    {
      "cell_type": "code",
      "execution_count": 12,
      "metadata": {
        "id": "0P4JFvnnIiqb"
      },
      "outputs": [],
      "source": [
        "from llama_index.llms.openai import OpenAI\n",
        "from llama_index.embeddings.openai import OpenAIEmbedding\n",
        "from llama_index.core import Settings\n",
        "# Setup OpenAI Model and Embeddings used for indexing the documents\n",
        "Settings.llm = OpenAI(model='gpt-4o-mini', temperature=0.2)\n",
        "Settings.embed_model = OpenAIEmbedding(model='text-embedding-3-small')\n",
        "Settings.chunk_size = 1024"
      ]
    },
    {
      "cell_type": "code",
      "execution_count": 13,
      "metadata": {
        "colab": {
          "base_uri": "https://localhost:8080/"
        },
        "id": "GrCN4qNm8gPH",
        "outputId": "efa105ec-67b3-4131-c330-98058822f9a2"
      },
      "outputs": [
        {
          "output_type": "stream",
          "name": "stdout",
          "text": [
            "Drive already mounted at /content/drive; to attempt to forcibly remount, call drive.mount(\"/content/drive\", force_remount=True).\n"
          ]
        }
      ],
      "source": [
        "from google.colab import drive\n",
        "drive.mount('/content/drive')\n",
        "data_dir = '/content/drive/MyDrive' # Input a data dir path from your mounted Google Drive"
      ]
    },
    {
      "cell_type": "code",
      "execution_count": 14,
      "metadata": {
        "id": "zp0wbYoD8j_L"
      },
      "outputs": [],
      "source": [
        "from llama_index.core.tools import QueryEngineTool, ToolMetadata\n",
        "from llama_index.core.query_engine import RouterQueryEngine\n",
        "from llama_index.core.selectors import LLMSingleSelector\n",
        "from llama_index.core import SimpleDirectoryReader\n",
        "from llama_index.core import StorageContext, load_index_from_storage\n",
        "from llama_index.core import VectorStoreIndex, SummaryIndex"
      ]
    },
    {
      "cell_type": "code",
      "execution_count": 15,
      "metadata": {
        "id": "ajkpBWTSAwzi"
      },
      "outputs": [],
      "source": [
        "# In order to avoid repeated calls to LLMs we can store the documents index and load it if present else create it\n",
        "PERSIST_INDEX_DIR = f\"/{data_dir}/RAG/data/\"\n",
        "def get_index(index_name, doc_file_path):\n",
        "  index = None\n",
        "  if not os.path.exists(f\"{PERSIST_INDEX_DIR}{index_name}/\"):\n",
        "    # Load the documents\n",
        "    documents = SimpleDirectoryReader(input_files=[doc_file_path]).load_data()\n",
        "    index = VectorStoreIndex.from_documents(documents)\n",
        "    # Store the index to disk\n",
        "    index.storage_context.persist(f\"{PERSIST_INDEX_DIR}{index_name}/\")\n",
        "  else: # Load index from disk\n",
        "    storage_context = StorageContext.from_defaults(persist_dir=f\"{PERSIST_INDEX_DIR}{index_name}/\")\n",
        "    index = load_index_from_storage(storage_context)\n",
        "\n",
        "  return index"
      ]
    },
    {
      "cell_type": "code",
      "execution_count": 16,
      "metadata": {
        "id": "bGX9M8OnIxhN"
      },
      "outputs": [],
      "source": [
        "# Load OECD guidelines documents for Transfer Pricing\n",
        "docs_OECD_guidelines = SimpleDirectoryReader(f\"{data_dir}/RAG/data/OECD/\").load_data()"
      ]
    },
    {
      "cell_type": "code",
      "execution_count": 17,
      "metadata": {
        "id": "xvAM5eBOAyy4"
      },
      "outputs": [],
      "source": [
        "#initialise a storage context and use that for both Vector Index and Summary Index\n",
        "oecd_nodes = Settings.node_parser.get_nodes_from_documents(docs_OECD_guidelines)\n",
        "oecd_storage_context = StorageContext.from_defaults()\n",
        "oecd_storage_context.docstore.add_documents(oecd_nodes)\n",
        "\n",
        "# Setup Vector and Summary Index from Storage Context\n",
        "oecd_summary_index = SummaryIndex(oecd_nodes, storage_context=oecd_storage_context)\n",
        "oecd_vector_index = VectorStoreIndex(oecd_nodes, storage_context=oecd_storage_context)\n",
        "\n",
        "# Setup Indices.In order to avoid repeated calls to LLMs we can store the documents index and load it if present else create it\n",
        "OECD_index = get_index(\"uber_10k\",f\"{data_dir}/RAG/data/OECD/OECD_Transfer_Pricing_Guidelines.pdf\")\n",
        "form990_guidelines_index = get_index(\"lyft_10k\",f\"{data_dir}/RAG/data/Form990/Form990_Guidelines.pdf\")"
      ]
    },
    {
      "cell_type": "code",
      "execution_count": 18,
      "metadata": {
        "id": "0svi3grHC-hF"
      },
      "outputs": [],
      "source": [
        "from llama_index.core.tools import QueryEngineTool, ToolMetadata\n",
        "from llama_index.core.query_engine import RouterQueryEngine\n",
        "from llama_index.core.selectors import LLMSingleSelector\n",
        "# Create the query engines\n",
        "OECD_engine = OECD_index.as_query_engine(similarity_top_k=3)\n",
        "form990_guidelines_engine = form990_guidelines_index.as_query_engine(similarity_top_k=3)\n",
        "# Create tools for the query engines\n",
        "OECD_query_tool = QueryEngineTool(\n",
        "                      query_engine=OECD_engine,\n",
        "                      metadata=ToolMetadata(\n",
        "                          name=\"OECD_QueryEngineTool_2022\",\n",
        "                          description=\"Provides information about Transfer Pricing Guidelines for Organization from OECD for year 2022\"\n",
        "                      )\n",
        "                    )\n",
        "\n",
        "Form990_query_tool = QueryEngineTool(\n",
        "                      query_engine=form990_guidelines_engine,\n",
        "                      metadata=ToolMetadata(\n",
        "                          name=\"centralJersey_form990_2022\",\n",
        "                          description=\"Provides information about Central Jersey Form990 filling for the year 2022\"\n",
        "                      )\n",
        "                    )\n",
        "\n",
        "tools = [OECD_query_tool, Form990_query_tool]\n",
        "\n",
        "filing_engine = RouterQueryEngine(\n",
        "                      selector= LLMSingleSelector.from_defaults(),\n",
        "                      query_engine_tools=tools\n",
        "                      )"
      ]
    },
    {
      "cell_type": "code",
      "execution_count": null,
      "metadata": {
        "id": "yjT0PRiNEPqN"
      },
      "outputs": [],
      "source": [
        "OECD_query=\"What documentation and approach is required for the valuation of assets in Transfer Pricing?\"\n",
        "Form990_query=\"An organization receives contributions worth of $15000 which Form within Form990 should the organization complete before filing returns to IRS\""
      ]
    },
    {
      "cell_type": "code",
      "execution_count": null,
      "metadata": {
        "colab": {
          "base_uri": "https://localhost:8080/"
        },
        "id": "ufPBLWPdFX2v",
        "outputId": "9b017574-8751-43aa-8d66-1644b8ba0d18"
      },
      "outputs": [
        {
          "name": "stdout",
          "output_type": "stream",
          "text": [
            "The valuation of assets in Transfer Pricing typically requires comprehensive documentation that supports the valuation methods used. This includes:\n",
            "\n",
            "1. **Comparable Analysis**: Gathering data on comparable transactions or assets to establish a benchmark for valuation.\n",
            "2. **Valuation Methods**: Clearly outlining the valuation methods applied, such as the income approach, market approach, or cost approach.\n",
            "3. **Financial Statements**: Providing relevant financial statements and reports that reflect the asset's performance and market conditions.\n",
            "4. **Market Research**: Conducting market research to understand the economic environment and industry standards that may affect asset value.\n",
            "5. **Legal and Regulatory Compliance**: Ensuring that the valuation complies with local and international regulations governing Transfer Pricing.\n",
            "\n",
            "An organized approach that documents each step taken in the valuation process is essential for transparency and compliance with Transfer Pricing regulations.\n",
            "\n",
            ".------------------.\n",
            "\n",
            "The organization should complete Form 990, specifically the sections that pertain to contributions and revenue, before filing returns to the IRS.\n",
            "\n",
            ".------------------.\n",
            "\n"
          ]
        }
      ],
      "source": [
        "response = filing_engine.query(OECD_query)\n",
        "print (response)\n",
        "print(\"\\n.------------------.\\n\")\n",
        "response = filing_engine.query(Form990_query)\n",
        "print (response)\n",
        "print(\"\\n.------------------.\\n\")"
      ]
    },
    {
      "cell_type": "code",
      "execution_count": null,
      "metadata": {
        "id": "XOIWBQ48H4Tq"
      },
      "outputs": [],
      "source": [
        "# Define the Summary and Vector query engines for Paul Graham text corpa\n",
        "\n",
        "summary_query_engine = oecd_summary_index.as_query_engine(response_mode= \"tree_summarize\")\n",
        "vector_query_engine = oecd_vector_index.as_query_engine()\n",
        "\n",
        "# Now Create the query engine tools from the above query engines\n",
        "summary_tool = QueryEngineTool(\n",
        "                query_engine=summary_query_engine,\n",
        "                metadata=ToolMetadata(\n",
        "                    name=\"OECD_Summary\",\n",
        "                    description=\"Summarizes the OECD guidelines for Transfer Pricing\"\n",
        "                    )\n",
        "                )\n",
        "vector_tool = QueryEngineTool(\n",
        "                query_engine=vector_query_engine,\n",
        "                metadata = ToolMetadata(\n",
        "                    name=\"OECD_Guidelines_QA\",\n",
        "                    description=\"Retrieves answers for questions on OECD\"\n",
        "                    )\n",
        "                )\n",
        "oecd_tools = [summary_tool, vector_tool]\n",
        "# Now define the Router Query Engine\n",
        "oecd_engine = RouterQueryEngine(\n",
        "                      selector= LLMSingleSelector.from_defaults(),\n",
        "                      query_engine_tools=oecd_tools\n",
        "                      )\n"
      ]
    },
    {
      "cell_type": "code",
      "execution_count": null,
      "metadata": {
        "colab": {
          "base_uri": "https://localhost:8080/"
        },
        "id": "aYTIob1bLS7a",
        "outputId": "1495178e-1b52-4529-ea0d-080237718ca8"
      },
      "outputs": [
        {
          "name": "stdout",
          "output_type": "stream",
          "text": [
            "The OECD guidelines for Transfer Pricing establish a framework for multinational enterprises (MNEs) to ensure that intercompany transactions are priced in accordance with the arm's length principle. This principle mandates that the terms and conditions of transactions between associated enterprises should reflect those that would be agreed upon by unrelated parties under comparable circumstances.\n",
            "\n",
            "Key elements of the guidelines include:\n",
            "\n",
            "1. **Arm's Length Principle**: Central to the guidelines, it requires that intercompany pricing mirrors that of independent entities.\n",
            "\n",
            "2. **Functional Analysis**: A detailed examination of the functions performed, assets used, and risks assumed by each party is essential for determining appropriate pricing.\n",
            "\n",
            "3. **Transfer Pricing Methods**: Several methods are outlined for establishing arm's length prices, including Comparable Uncontrolled Price (CUP), Resale Price Method, Cost Plus Method, Transactional Net Margin Method (TNMM), and Profit Split Method. The choice of method should be tailored to the specific transaction circumstances.\n",
            "\n",
            "4. **Documentation Requirements**: MNEs must maintain comprehensive documentation, including a master file and local files, to demonstrate compliance with the arm's length principle and support their transfer pricing practices.\n",
            "\n",
            "5. **Comparability Analysis**: Identifying and analyzing comparable transactions is crucial, with adjustments made for any material differences that could affect pricing.\n",
            "\n",
            "6. **Risk Allocation**: Proper identification and allocation of risks among associated enterprises are emphasized, as this can significantly influence transaction pricing.\n",
            "\n",
            "7. **Special Considerations for Intangibles**: Guidance is provided for transactions involving hard-to-value intangibles, focusing on careful identification and valuation.\n",
            "\n",
            "8. **Cost Contribution Arrangements (CCAs)**: The guidelines discuss how contributions to CCAs should be assessed based on value rather than cost.\n",
            "\n",
            "9. **Advance Pricing Agreements (APAs)**: Encouragement for the use of APAs is provided to ensure certainty in transfer pricing arrangements and prevent disputes.\n",
            "\n",
            "10. **International Cooperation**: The guidelines highlight the importance of collaboration among tax administrations to effectively address transfer pricing issues and reduce the risk of double taxation.\n",
            "\n",
            "Overall, the guidelines aim to promote transparency, consistency, and fairness in the taxation of cross-border transactions among MNEs, facilitating international trade and investment while minimizing compliance burdens.\n"
          ]
        }
      ],
      "source": [
        "# Summarization routing\n",
        "response = oecd_engine.query(\"Summarize the OECD guidelines for Transfer Pricing?\")\n",
        "print (response)\n"
      ]
    },
    {
      "cell_type": "code",
      "execution_count": null,
      "metadata": {
        "colab": {
          "base_uri": "https://localhost:8080/"
        },
        "id": "gIgKtJ7xo09O",
        "outputId": "acf87506-0199-44b8-8b91-43816535bf87"
      },
      "outputs": [
        {
          "name": "stdout",
          "output_type": "stream",
          "text": [
            "selections=[SingleSelection(index=0, reason='The question specifically asks for a summary of the OECD guidelines for Transfer Pricing, which corresponds directly to choice 1.')]\n"
          ]
        }
      ],
      "source": [
        "# To Confirm whether the Summary Engine was used\n",
        "print (response.metadata[\"selector_result\"])"
      ]
    },
    {
      "cell_type": "code",
      "execution_count": null,
      "metadata": {
        "colab": {
          "base_uri": "https://localhost:8080/"
        },
        "id": "8mINCkWbpQvO",
        "outputId": "9a6586ba-88aa-4252-f706-8fdfbaf77575"
      },
      "outputs": [
        {
          "output_type": "stream",
          "name": "stdout",
          "text": [
            "The best possible way to evaluate intangibles in transfer pricing involves a structured and comprehensive approach that adheres to the arm's length principle. Key steps include:\n",
            "\n",
            "1. **Functional Analysis**: Conduct a thorough analysis to identify the functions performed, assets used, and risks assumed by each party involved in the transaction. This understanding is crucial for assessing contributions to the intangible's value.\n",
            "\n",
            "2. **Identification of Intangibles**: Clearly define the intangibles involved, including their nature, legal protections, and economic value. This encompasses both registered and unregistered intangibles.\n",
            "\n",
            "3. **Valuation Techniques**: Employ appropriate valuation methods such as:\n",
            "   - **Discounted Cash Flow Method**: Estimate the value based on projected future cash flows, considering associated risks.\n",
            "   - **Comparable Uncontrolled Price (CUP) Method**: Use this method if reliable comparable transactions exist to benchmark pricing.\n",
            "   - **Cost Approach**: Assess the costs incurred in developing the intangible to establish a baseline value.\n",
            "\n",
            "4. **Consideration of Unique Characteristics**: Take into account factors such as exclusivity, legal protection duration, and the stage of development, as these can significantly impact the intangible's value.\n",
            "\n",
            "5. **Assessment of Risks**: Evaluate the risks related to the intangibles, including development risks and market conditions, and document the allocation of these risks among the parties.\n",
            "\n",
            "6. **Documentation and Compliance**: Maintain comprehensive documentation to support the valuation and pricing decisions, ensuring compliance with local regulations and international guidelines.\n",
            "\n",
            "7. **Regular Review and Adjustment**: Periodically review the valuation to ensure it reflects current market conditions and adjust as necessary based on new information or changes in the economic landscape.\n",
            "\n",
            "By following these steps, businesses can achieve a robust and defensible evaluation of intangibles in transfer pricing, minimizing the risk of disputes and ensuring alignment with the arm's length principle.\n"
          ]
        }
      ],
      "source": [
        "# Now route to a Question Answer engine\n",
        "response = oecd_engine.query(\"What would be the best possible way to evaluate the Intangibles in Transfer Pricing?\")\n",
        "print (response)"
      ]
    },
    {
      "cell_type": "code",
      "execution_count": null,
      "metadata": {
        "colab": {
          "base_uri": "https://localhost:8080/"
        },
        "id": "wETxPwaSqWJ2",
        "outputId": "3d1310b6-6d00-4f33-e97f-3ac40431fe0b"
      },
      "outputs": [
        {
          "name": "stdout",
          "output_type": "stream",
          "text": [
            "selections=[SingleSelection(index=0, reason='The question pertains to evaluating intangibles in Transfer Pricing, which is directly related to the OECD guidelines for Transfer Pricing that provide frameworks and methodologies for such evaluations.')]\n"
          ]
        }
      ],
      "source": [
        "# Confirm that Vector Engine was used.\n",
        "print (response.metadata[\"selector_result\"])"
      ]
    },
    {
      "cell_type": "code",
      "execution_count": null,
      "metadata": {
        "id": "4tET00dfrcr0"
      },
      "outputs": [],
      "source": [
        "!pip install -U faiss-cpu sentence_transformers transformers"
      ]
    },
    {
      "cell_type": "code",
      "execution_count": null,
      "metadata": {
        "id": "ESbgPvWSrQ6-"
      },
      "outputs": [],
      "source": [
        "import faiss\n",
        "import json\n",
        "import numpy as np\n",
        "from sentence_transformers import SentenceTransformer\n",
        "from transformers import AutoTokenizer, AutoModelForCausalLM\n",
        "import time\n",
        "\n",
        "class SemanticCaching:\n",
        "    def __init__(self, json_file='cache.json'):\n",
        "        # Initialize Faiss index  with Euclidean distance\n",
        "        self.index =faiss.IndexFlatL2(768)  # Use IndexFlatL2 with Euclidean distance\n",
        "        if self.index.is_trained:\n",
        "            print('Index trained')\n",
        "\n",
        "        # Initialize Sentence Transformer model\n",
        "        self.encoder = SentenceTransformer('all-mpnet-base-v2')\n",
        "\n",
        "\n",
        "        # Uncomment the following lines to use DialoGPT for question generation\n",
        "        # self.tokenizer = AutoTokenizer.from_pretrained(\"microsoft/DialoGPT-large\")\n",
        "        # self.model = AutoModelForCausalLM.from_pretrained(\"microsoft/DialoGPT-large\")\n",
        "\n",
        "        # Set Euclidean distance threshold\n",
        "        self.euclidean_threshold = 0.3\n",
        "        self.json_file = json_file\n",
        "        self.load_cache()\n",
        "\n",
        "    def load_cache(self):\n",
        "        # Load cache from JSON file, creating an empty cache if the file is not found\n",
        "        try:\n",
        "            with open(self.json_file, 'r') as file:\n",
        "                self.cache = json.load(file)\n",
        "        except FileNotFoundError:\n",
        "            self.cache = {'questions': [], 'embeddings': [], 'answers': [], 'response_text': []}\n",
        "\n",
        "    def save_cache(self):\n",
        "        # Save the cache to the JSON file\n",
        "        with open(self.json_file, 'w') as file:\n",
        "            json.dump(self.cache, file)\n",
        "\n",
        "    def ask(self, question: str) -> str:\n",
        "        # Method to retrieve an answer from the cache or generate a new one\n",
        "        start_time = time.time()\n",
        "        try:\n",
        "            l = [question]\n",
        "            embedding = self.encoder.encode(l)\n",
        "\n",
        "            # Search for the nearest neighbor in the index\n",
        "            D, I = self.index.search(embedding, 1)\n",
        "\n",
        "            if D[0] >= 0:\n",
        "                if I[0][0] != -1 and D[0][0] <= self.euclidean_threshold:\n",
        "                    row_id = int(I[0][0])\n",
        "                    print(f'Found cache in row: {row_id} with score {1 - D[0][0]}') #score inversed to show similarity\n",
        "                    end_time = time.time()\n",
        "                    elapsed_time = end_time - start_time\n",
        "                    print(f\"Time taken: {elapsed_time} seconds\")\n",
        "                    return self.cache['response_text'][row_id]\n",
        "\n",
        "            # Handle the case when there are not enough results or Euclidean distance is not met\n",
        "            answer, response_text = self.generate_answer(question)\n",
        "\n",
        "            self.cache['questions'].append(question)\n",
        "            self.cache['embeddings'].append(embedding[0].tolist())\n",
        "            self.cache['answers'].append(answer)\n",
        "            self.cache['response_text'].append(response_text)\n",
        "\n",
        "            self.index.add(embedding)\n",
        "            self.save_cache()\n",
        "            end_time = time.time()\n",
        "            elapsed_time = end_time - start_time\n",
        "            print(f\"Time taken: {elapsed_time} seconds\")\n",
        "\n",
        "            return response_text\n",
        "        except Exception as e:\n",
        "            raise RuntimeError(f\"Error during 'ask' method: {e}\")\n",
        "\n",
        "    def generate_answer(self, question: str) -> str:\n",
        "        # Method to generate an answer using a separate function (make_prediction in this case)\n",
        "        try:\n",
        "            result = oecd_engine.query(question)\n",
        "            #response_text = result['data']['response_text']\n",
        "            response_text=result.json()\n",
        "\n",
        "            return result, response_text\n",
        "        except Exception as e:\n",
        "            raise RuntimeError(f\"Error during 'generate_answer' method: {e}\")"
      ]
    },
    {
      "cell_type": "code",
      "execution_count": null,
      "metadata": {
        "colab": {
          "base_uri": "https://localhost:8080/"
        },
        "id": "6zpmY0eMr0vc",
        "outputId": "580a9953-10ef-4954-e4ec-b427c2135b9b"
      },
      "outputs": [
        {
          "name": "stdout",
          "output_type": "stream",
          "text": [
            "Index trained\n"
          ]
        }
      ],
      "source": [
        "cache = SemanticCaching()"
      ]
    },
    {
      "cell_type": "code",
      "execution_count": null,
      "metadata": {
        "id": "yUYz0qqdtcEe"
      },
      "outputs": [],
      "source": [
        "import markdown\n",
        "from IPython.display import Markdown\n",
        "\n",
        "def print_gpt_markdown(markdown_text):\n",
        "    display(Markdown(markdown_text))"
      ]
    },
    {
      "cell_type": "code",
      "execution_count": null,
      "metadata": {
        "colab": {
          "base_uri": "https://localhost:8080/"
        },
        "id": "o2MQgAUesCz_",
        "outputId": "2023b7c9-02dd-4277-c26a-e401986a1875"
      },
      "outputs": [
        {
          "output_type": "stream",
          "name": "stdout",
          "text": [
            "Found cache in row: 0 with score 1.0\n",
            "Time taken: 0.21566176414489746 seconds\n",
            "The best possible way to evaluate intangibles in transfer pricing involves a comprehensive approach that includes several key steps:\n",
            "\n",
            "1. **Functional Analysis**: Conduct a detailed functional analysis to identify the functions performed, assets used, and risks assumed by each party involved in the transaction. This helps delineate the actual transaction and understand the contributions of each entity.\n",
            "\n",
            "2. **Identification of Intangibles**: Clearly identify the specific intangibles involved, such as patents, trademarks, or proprietary technology, and understand their unique characteristics and economic value.\n",
            "\n",
            "3. **Valuation Techniques**: Utilize appropriate valuation methods to determine the arm's length price for the intangibles. Common methods include:\n",
            "   - **Comparable Uncontrolled Price (CUP)**: This method compares prices from similar transactions between independent parties.\n",
            "   - **Discounted Cash Flow (DCF)**: This estimates the present value of expected future cash flows generated by the intangible.\n",
            "   - **Residual Profit Split Method**: This allocates profits based on the relative contributions of each party to the overall profit generated from the intangible.\n",
            "\n",
            "4. **Consideration of Hard-to-Value Intangibles (HTVI)**: For intangibles that are difficult to value, apply the HTVI approach, which allows for the evaluation of actual outcomes as evidence for the appropriateness of the pricing arrangements made at the time of the transaction.\n",
            "\n",
            "5. **Comparability Analysis**: Perform a comparability analysis to assess whether the conditions of the controlled transaction align with those that would be agreed upon by independent enterprises under comparable circumstances. This may involve identifying comparable uncontrolled transactions and making necessary adjustments.\n",
            "\n",
            "6. **Market Conditions**: Regularly assess market conditions and the competitive landscape, as these factors can significantly influence the value of intangibles over time.\n",
            "\n",
            "7. **Documentation and Compliance**: Maintain thorough documentation of the valuation process, including methodologies used, assumptions made, and data sources. This documentation is crucial for compliance with transfer pricing regulations and for defending the valuation during audits.\n",
            "\n",
            "By following these steps, entities can ensure a robust evaluation of intangibles in transfer pricing that aligns with the arm's length principle and minimizes the risk of disputes with tax authorities.\n"
          ]
        }
      ],
      "source": [
        "# Now Cache the request and response using Semantic Caching wherein the question is routed to a Question Answer engine\n",
        "response = cache.ask(\"What would be the best possible way to evaluate the Intangibles in Transfer Pricing?\")\n",
        "print(response)\n"
      ]
    }
  ],
  "metadata": {
    "colab": {
      "provenance": [],
      "authorship_tag": "ABX9TyOh1S3dta+3IimAkA6ZgFzz",
      "include_colab_link": true
    },
    "kernelspec": {
      "display_name": "Python 3",
      "name": "python3"
    },
    "language_info": {
      "name": "python"
    }
  },
  "nbformat": 4,
  "nbformat_minor": 0
}