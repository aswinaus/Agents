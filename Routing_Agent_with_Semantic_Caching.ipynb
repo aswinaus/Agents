{
  "cells": [
    {
      "cell_type": "markdown",
      "metadata": {
        "id": "view-in-github",
        "colab_type": "text"
      },
      "source": [
        "<a href=\"https://colab.research.google.com/github/aswinaus/Agents/blob/main/Routing_Agent_with_Semantic_Caching.ipynb\" target=\"_parent\"><img src=\"https://colab.research.google.com/assets/colab-badge.svg\" alt=\"Open In Colab\"/></a>"
      ]
    },
    {
      "cell_type": "code",
      "execution_count": 9,
      "metadata": {
        "id": "gL0ehB688W7m"
      },
      "outputs": [],
      "source": [
        "!pip install llama-index -q\n",
        "!pip install llama-index-tools-wolfram-alpha -q\n",
        "!pip install langchain -q\n",
        "!pip install langchain_experimental -q"
      ]
    },
    {
      "cell_type": "code",
      "execution_count": 10,
      "metadata": {
        "id": "OnJM1Js08cA6"
      },
      "outputs": [],
      "source": [
        "import os\n",
        "import nest_asyncio\n",
        "nest_asyncio.apply()"
      ]
    },
    {
      "cell_type": "code",
      "execution_count": 11,
      "metadata": {
        "id": "BIjCyWxu8eTZ"
      },
      "outputs": [],
      "source": [
        "from google.colab import userdata\n",
        "# Set the OpenAI API key as an environment variable\n",
        "os.environ[\"OPENAI_API_KEY\"] =  userdata.get('OPENAI_API_KEY')"
      ]
    },
    {
      "cell_type": "code",
      "execution_count": 12,
      "metadata": {
        "id": "0P4JFvnnIiqb"
      },
      "outputs": [],
      "source": [
        "from llama_index.llms.openai import OpenAI\n",
        "from llama_index.embeddings.openai import OpenAIEmbedding\n",
        "from llama_index.core import Settings\n",
        "# Setup OpenAI Model and Embeddings used for indexing the documents\n",
        "Settings.llm = OpenAI(model='gpt-4o-mini', temperature=0.2)\n",
        "Settings.embed_model = OpenAIEmbedding(model='text-embedding-3-small')\n",
        "Settings.chunk_size = 1024"
      ]
    },
    {
      "cell_type": "code",
      "execution_count": 13,
      "metadata": {
        "colab": {
          "base_uri": "https://localhost:8080/"
        },
        "id": "GrCN4qNm8gPH",
        "outputId": "efa105ec-67b3-4131-c330-98058822f9a2"
      },
      "outputs": [
        {
          "output_type": "stream",
          "name": "stdout",
          "text": [
            "Drive already mounted at /content/drive; to attempt to forcibly remount, call drive.mount(\"/content/drive\", force_remount=True).\n"
          ]
        }
      ],
      "source": [
        "from google.colab import drive\n",
        "drive.mount('/content/drive')\n",
        "data_dir = '/content/drive/MyDrive' # Input a data dir path from your mounted Google Drive"
      ]
    },
    {
      "cell_type": "code",
      "execution_count": 14,
      "metadata": {
        "id": "zp0wbYoD8j_L"
      },
      "outputs": [],
      "source": [
        "from llama_index.core.tools import QueryEngineTool, ToolMetadata\n",
        "from llama_index.core.query_engine import RouterQueryEngine\n",
        "from llama_index.core.selectors import LLMSingleSelector\n",
        "from llama_index.core import SimpleDirectoryReader\n",
        "from llama_index.core import StorageContext, load_index_from_storage\n",
        "from llama_index.core import VectorStoreIndex, SummaryIndex"
      ]
    },
    {
      "cell_type": "code",
      "execution_count": 15,
      "metadata": {
        "id": "ajkpBWTSAwzi"
      },
      "outputs": [],
      "source": [
        "# In order to avoid repeated calls to LLMs we can store the documents index and load it if present else create it\n",
        "PERSIST_INDEX_DIR = f\"/{data_dir}/RAG/data/\"\n",
        "def get_index(index_name, doc_file_path):\n",
        "  index = None\n",
        "  if not os.path.exists(f\"{PERSIST_INDEX_DIR}{index_name}/\"):\n",
        "    # Load the documents\n",
        "    documents = SimpleDirectoryReader(input_files=[doc_file_path]).load_data()\n",
        "    index = VectorStoreIndex.from_documents(documents)\n",
        "    # Store the index to disk\n",
        "    index.storage_context.persist(f\"{PERSIST_INDEX_DIR}{index_name}/\")\n",
        "  else: # Load index from disk\n",
        "    storage_context = StorageContext.from_defaults(persist_dir=f\"{PERSIST_INDEX_DIR}{index_name}/\")\n",
        "    index = load_index_from_storage(storage_context)\n",
        "\n",
        "  return index"
      ]
    },
    {
      "cell_type": "code",
      "execution_count": 16,
      "metadata": {
        "id": "bGX9M8OnIxhN"
      },
      "outputs": [],
      "source": [
        "# Load OECD guidelines documents for Transfer Pricing\n",
        "docs_OECD_guidelines = SimpleDirectoryReader(f\"{data_dir}/RAG/data/OECD/\").load_data()"
      ]
    },
    {
      "cell_type": "code",
      "execution_count": 17,
      "metadata": {
        "id": "xvAM5eBOAyy4"
      },
      "outputs": [],
      "source": [
        "#initialise a storage context and use that for both Vector Index and Summary Index\n",
        "oecd_nodes = Settings.node_parser.get_nodes_from_documents(docs_OECD_guidelines)\n",
        "oecd_storage_context = StorageContext.from_defaults()\n",
        "oecd_storage_context.docstore.add_documents(oecd_nodes)\n",
        "\n",
        "# Setup Vector and Summary Index from Storage Context\n",
        "oecd_summary_index = SummaryIndex(oecd_nodes, storage_context=oecd_storage_context)\n",
        "oecd_vector_index = VectorStoreIndex(oecd_nodes, storage_context=oecd_storage_context)\n",
        "\n",
        "# Setup Indices.In order to avoid repeated calls to LLMs we can store the documents index and load it if present else create it\n",
        "OECD_index = get_index(\"uber_10k\",f\"{data_dir}/RAG/data/OECD/OECD_Transfer_Pricing_Guidelines.pdf\")\n",
        "form990_guidelines_index = get_index(\"lyft_10k\",f\"{data_dir}/RAG/data/Form990/Form990_Guidelines.pdf\")"
      ]
    },
    {
      "cell_type": "code",
      "execution_count": 19,
      "metadata": {
        "id": "0svi3grHC-hF"
      },
      "outputs": [],
      "source": [
        "from llama_index.core.tools import QueryEngineTool, ToolMetadata\n",
        "from llama_index.core.query_engine import RouterQueryEngine\n",
        "from llama_index.core.selectors import LLMSingleSelector\n",
        "# Create the query engines\n",
        "OECD_engine = OECD_index.as_query_engine(similarity_top_k=3)\n",
        "form990_guidelines_engine = form990_guidelines_index.as_query_engine(similarity_top_k=3)\n",
        "# Create tools for the query engines\n",
        "OECD_query_tool = QueryEngineTool(\n",
        "                      query_engine=OECD_engine,\n",
        "                      metadata=ToolMetadata(\n",
        "                          name=\"OECD_QueryEngineTool_2022\",\n",
        "                          description=\"Provides information about Transfer Pricing Guidelines for Organization from OECD for year 2022\"\n",
        "                      )\n",
        "                    )\n",
        "\n",
        "Form990_query_tool = QueryEngineTool(\n",
        "                      query_engine=form990_guidelines_engine,\n",
        "                      metadata=ToolMetadata(\n",
        "                          name=\"centralJersey_form990_2022\",\n",
        "                          description=\"Provides information about Central Jersey Form990 filling for the year 2022\"\n",
        "                      )\n",
        "                    )\n",
        "\n",
        "tools = [OECD_query_tool, Form990_query_tool]\n",
        "\n",
        "filing_engine = RouterQueryEngine(\n",
        "                      selector= LLMSingleSelector.from_defaults(),\n",
        "                      query_engine_tools=tools\n",
        "                      )"
      ]
    },
    {
      "cell_type": "code",
      "execution_count": 20,
      "metadata": {
        "id": "yjT0PRiNEPqN"
      },
      "outputs": [],
      "source": [
        "OECD_query=\"What documentation and approach is required for the valuation of assets in Transfer Pricing?\"\n",
        "Form990_query=\"An organization receives contributions worth of $15000 which Form within Form990 should the organization complete before filing returns to IRS\""
      ]
    },
    {
      "cell_type": "code",
      "execution_count": 21,
      "metadata": {
        "colab": {
          "base_uri": "https://localhost:8080/"
        },
        "id": "ufPBLWPdFX2v",
        "outputId": "45f90243-055a-4dbd-e8d1-71d3379aa532"
      },
      "outputs": [
        {
          "output_type": "stream",
          "name": "stdout",
          "text": [
            "The valuation of assets in Transfer Pricing typically requires comprehensive documentation that includes a detailed analysis of the assets being valued, the methods used for valuation, and the rationale behind those methods. This documentation should cover the following aspects:\n",
            "\n",
            "1. **Asset Identification**: Clearly identify the assets involved in the transaction, including their nature, characteristics, and any relevant market data.\n",
            "\n",
            "2. **Valuation Methodology**: Specify the valuation methods used, such as the Comparable Uncontrolled Price (CUP) method, the Cost Plus method, or the Profit Split method, and justify the choice of method based on the specific circumstances of the transaction.\n",
            "\n",
            "3. **Market Analysis**: Provide an analysis of the market conditions, including comparable transactions and market participants, to support the valuation.\n",
            "\n",
            "4. **Financial Information**: Include relevant financial data, such as historical financial statements, forecasts, and any other financial metrics that may impact the valuation.\n",
            "\n",
            "5. **Regulatory Compliance**: Ensure that the documentation complies with local and international Transfer Pricing regulations and guidelines.\n",
            "\n",
            "6. **Consistency and Transparency**: Maintain consistency in the approach used across different transactions and ensure that the documentation is transparent and easily understandable.\n",
            "\n",
            "By following these guidelines, organizations can effectively document and support their asset valuations in Transfer Pricing scenarios.\n",
            "\n",
            ".------------------.\n",
            "\n",
            "The organization should complete Form 990, specifically the sections that pertain to contributions and revenue, before filing returns to the IRS.\n",
            "\n",
            ".------------------.\n",
            "\n"
          ]
        }
      ],
      "source": [
        "response = filing_engine.query(OECD_query)\n",
        "print (response)\n",
        "print(\"\\n.------------------.\\n\")\n",
        "response = filing_engine.query(Form990_query)\n",
        "print (response)\n",
        "print(\"\\n.------------------.\\n\")"
      ]
    },
    {
      "cell_type": "code",
      "execution_count": 22,
      "metadata": {
        "id": "XOIWBQ48H4Tq"
      },
      "outputs": [],
      "source": [
        "# Define the Summary and Vector query engines for Paul Graham text corpa\n",
        "\n",
        "summary_query_engine = oecd_summary_index.as_query_engine(response_mode= \"tree_summarize\")\n",
        "vector_query_engine = oecd_vector_index.as_query_engine()\n",
        "\n",
        "# Now Create the query engine tools from the above query engines\n",
        "summary_tool = QueryEngineTool(\n",
        "                query_engine=summary_query_engine,\n",
        "                metadata=ToolMetadata(\n",
        "                    name=\"OECD_Summary\",\n",
        "                    description=\"Summarizes the OECD guidelines for Transfer Pricing\"\n",
        "                    )\n",
        "                )\n",
        "vector_tool = QueryEngineTool(\n",
        "                query_engine=vector_query_engine,\n",
        "                metadata = ToolMetadata(\n",
        "                    name=\"OECD_Guidelines_QA\",\n",
        "                    description=\"Retrieves answers for questions on OECD\"\n",
        "                    )\n",
        "                )\n",
        "oecd_tools = [summary_tool, vector_tool]\n",
        "# Now define the Router Query Engine\n",
        "oecd_engine = RouterQueryEngine(\n",
        "                      selector= LLMSingleSelector.from_defaults(),\n",
        "                      query_engine_tools=oecd_tools\n",
        "                      )\n"
      ]
    },
    {
      "cell_type": "code",
      "execution_count": 23,
      "metadata": {
        "colab": {
          "base_uri": "https://localhost:8080/"
        },
        "id": "aYTIob1bLS7a",
        "outputId": "e7a6936c-2bed-4281-d4ac-cc398cff6acc"
      },
      "outputs": [
        {
          "output_type": "stream",
          "name": "stdout",
          "text": [
            "The OECD guidelines for Transfer Pricing establish a framework for multinational enterprises (MNEs) to ensure that pricing for transactions between associated enterprises aligns with the arm's length principle. This principle dictates that prices should reflect those that would be agreed upon by independent parties in comparable circumstances.\n",
            "\n",
            "Key components of the guidelines include:\n",
            "\n",
            "1. **Arm's Length Principle**: Prices in intercompany transactions should mirror those in transactions between unrelated parties.\n",
            "\n",
            "2. **Functional Analysis**: A detailed examination of the functions performed, assets used, and risks assumed by each party is essential for accurately delineating transactions.\n",
            "\n",
            "3. **Transfer Pricing Methods**: Various methods are outlined for determining arm's length prices, including Comparable Uncontrolled Price (CUP), Resale Price Method, Cost Plus Method, Transactional Net Margin Method (TNMM), and Profit Split Method. The choice of method should be based on specific circumstances.\n",
            "\n",
            "4. **Documentation Requirements**: MNEs must maintain comprehensive documentation, including a master file and local files, to support their transfer pricing practices and demonstrate compliance with the arm's length principle.\n",
            "\n",
            "5. **Comparability Analysis**: Identifying and adjusting for differences between controlled and uncontrolled transactions is crucial for accurate pricing.\n",
            "\n",
            "6. **Intangibles and Intra-group Services**: Special considerations are provided for transactions involving intangibles and intra-group services, ensuring that charges reflect what independent enterprises would pay.\n",
            "\n",
            "7. **Business Restructuring**: The guidelines address the implications of business restructurings, focusing on appropriate compensation for transferred intangibles and ongoing functions.\n",
            "\n",
            "8. **Compliance and Risk Assessment**: Tax administrations are encouraged to adopt a risk-based approach to audits, utilizing the documentation provided by taxpayers.\n",
            "\n",
            "9. **Advance Pricing Agreements (APAs)**: The guidelines promote the use of APAs to provide certainty regarding transfer pricing arrangements.\n",
            "\n",
            "Overall, the guidelines aim to enhance transparency, consistency, and fairness in the taxation of cross-border transactions, thereby reducing the risk of double taxation and ensuring compliance with tax laws.\n"
          ]
        }
      ],
      "source": [
        "# Summarization routing\n",
        "response = oecd_engine.query(\"Summarize the OECD guidelines for Transfer Pricing?\")\n",
        "print (response)\n"
      ]
    },
    {
      "cell_type": "code",
      "execution_count": null,
      "metadata": {
        "colab": {
          "base_uri": "https://localhost:8080/"
        },
        "id": "gIgKtJ7xo09O",
        "outputId": "acf87506-0199-44b8-8b91-43816535bf87"
      },
      "outputs": [
        {
          "name": "stdout",
          "output_type": "stream",
          "text": [
            "selections=[SingleSelection(index=0, reason='The question specifically asks for a summary of the OECD guidelines for Transfer Pricing, which corresponds directly to choice 1.')]\n"
          ]
        }
      ],
      "source": [
        "# To Confirm whether the Summary Engine was used\n",
        "print (response.metadata[\"selector_result\"])"
      ]
    },
    {
      "cell_type": "code",
      "execution_count": 30,
      "metadata": {
        "colab": {
          "base_uri": "https://localhost:8080/"
        },
        "id": "8mINCkWbpQvO",
        "outputId": "f56702ea-d35f-44bb-dd20-ffb7a2a7cd75"
      },
      "outputs": [
        {
          "output_type": "stream",
          "name": "stdout",
          "text": [
            "The best possible way to evaluate intangibles in transfer pricing involves a comprehensive approach that includes several key steps:\n",
            "\n",
            "1. **Identification of Intangibles**: Clearly identify the specific intangibles involved in the transaction, such as patents, trademarks, or proprietary technology, and understand their significance.\n",
            "\n",
            "2. **Functional Analysis**: Conduct a thorough functional analysis to assess the roles of each party in the development, enhancement, maintenance, protection, and exploitation of the intangibles. This should include an evaluation of the functions performed, assets used, and risks assumed.\n",
            "\n",
            "3. **Valuation Techniques**: Apply appropriate valuation methods to determine the arm's length price for the intangibles. Common methods include:\n",
            "   - **Comparable Uncontrolled Price (CUP) Method**: If reliable comparables exist, use this method to establish a price based on similar transactions.\n",
            "   - **Cost Plus Method**: Calculate the costs incurred in developing the intangible and add an appropriate profit margin.\n",
            "   - **Profit Split Method**: Allocate profits based on the contributions of each party, particularly useful for unique intangibles.\n",
            "   - **Income Approach**: Estimate the future economic benefits expected from the intangible, discounted to present value.\n",
            "\n",
            "4. **Consideration of Market Conditions**: Evaluate the economic environment and market conditions that may affect the value of the intangibles, including competition, demand, and regulatory factors.\n",
            "\n",
            "5. **Documentation and Compliance**: Maintain thorough documentation of the valuation process, including methodologies, assumptions, and adjustments made to ensure compliance with the arm's length principle.\n",
            "\n",
            "6. **Review of Assumptions**: Regularly review and adjust the assumptions used in the valuation process to reflect changing market conditions or business strategies.\n",
            "\n",
            "7. **Consultation with Experts**: In complex cases, consider consulting with valuation experts to ensure the robustness and defensibility of the valuation.\n",
            "\n",
            "By following these steps, businesses can effectively evaluate intangibles in transfer pricing, ensuring that the pricing reflects the true economic value of the contributions made by each party involved.\n"
          ]
        }
      ],
      "source": [
        "# Now route to a Question Answer engine\n",
        "response = oecd_engine.query(\"What would be the best possible way to evaluate the Intangibles in Transfer Pricing?\")\n",
        "print (response)"
      ]
    },
    {
      "cell_type": "code",
      "execution_count": 24,
      "metadata": {
        "colab": {
          "base_uri": "https://localhost:8080/"
        },
        "id": "wETxPwaSqWJ2",
        "outputId": "b4adff82-b8db-4e32-fbdc-d8503eec0f26"
      },
      "outputs": [
        {
          "output_type": "stream",
          "name": "stdout",
          "text": [
            "selections=[SingleSelection(index=0, reason='The question specifically asks for a summary of the OECD guidelines for Transfer Pricing, which corresponds directly to choice 1.')]\n"
          ]
        }
      ],
      "source": [
        "# Confirm that Vector Engine was used.\n",
        "print (response.metadata[\"selector_result\"])"
      ]
    },
    {
      "cell_type": "code",
      "execution_count": null,
      "metadata": {
        "id": "4tET00dfrcr0"
      },
      "outputs": [],
      "source": [
        "!pip install -U faiss-cpu sentence_transformers transformers"
      ]
    },
    {
      "cell_type": "code",
      "execution_count": 33,
      "metadata": {
        "id": "ESbgPvWSrQ6-"
      },
      "outputs": [],
      "source": [
        "import faiss\n",
        "import json\n",
        "import numpy as np\n",
        "from sentence_transformers import SentenceTransformer\n",
        "from transformers import AutoTokenizer, AutoModelForCausalLM\n",
        "import time\n",
        "\n",
        "class SemanticCaching:\n",
        "    def __init__(self, json_file='cache.json'):\n",
        "        # Initialize Faiss index  with Euclidean distance\n",
        "        self.index =faiss.IndexFlatL2(768)  # Use IndexFlatL2 with Euclidean distance\n",
        "        if self.index.is_trained:\n",
        "            print('Index trained')\n",
        "\n",
        "        # Initialize Sentence Transformer model\n",
        "        self.encoder = SentenceTransformer('all-mpnet-base-v2')\n",
        "\n",
        "\n",
        "        # Uncomment the following lines to use DialoGPT for question generation\n",
        "        # self.tokenizer = AutoTokenizer.from_pretrained(\"microsoft/DialoGPT-large\")\n",
        "        # self.model = AutoModelForCausalLM.from_pretrained(\"microsoft/DialoGPT-large\")\n",
        "\n",
        "        # Set Euclidean distance threshold\n",
        "        self.euclidean_threshold = 0.3\n",
        "        self.json_file = json_file\n",
        "        self.load_cache()\n",
        "\n",
        "    def load_cache(self):\n",
        "        # Load cache from JSON file, creating an empty cache if the file is not found\n",
        "        try:\n",
        "            with open(self.json_file, 'r') as file:\n",
        "                self.cache = json.load(file)\n",
        "        except FileNotFoundError:\n",
        "            self.cache = {'questions': [], 'embeddings': [], 'answers': [], 'response_text': []}\n",
        "\n",
        "    def save_cache(self):\n",
        "        # Save the cache to the JSON file\n",
        "        with open(self.json_file, 'w') as file:\n",
        "            json.dump(self.cache, file)\n",
        "\n",
        "    def ask(self, question: str) -> str:\n",
        "        # Method to retrieve an answer from the cache or generate a new one\n",
        "        start_time = time.time()\n",
        "        try:\n",
        "            l = [question]\n",
        "            embedding = self.encoder.encode(l)\n",
        "\n",
        "            # Search for the nearest neighbor in the index\n",
        "            D, I = self.index.search(embedding, 1)\n",
        "\n",
        "            if D[0] >= 0:\n",
        "                if I[0][0] != -1 and D[0][0] <= self.euclidean_threshold:\n",
        "                    row_id = int(I[0][0])\n",
        "                    print(f'Found cache in row: {row_id} with score {1 - D[0][0]}') #score inversed to show similarity\n",
        "                    end_time = time.time()\n",
        "                    elapsed_time = end_time - start_time\n",
        "                    print(f\"Time taken: {elapsed_time} seconds\")\n",
        "                    return self.cache['response_text'][row_id]\n",
        "\n",
        "            # Handle the case when there are not enough results or Euclidean distance is not met\n",
        "            answer, response_text = self.generate_answer(question)\n",
        "\n",
        "            self.cache['questions'].append(question)\n",
        "            self.cache['embeddings'].append(embedding[0].tolist())\n",
        "            self.cache['answers'].append(answer)\n",
        "            self.cache['response_text'].append(response_text)\n",
        "\n",
        "            self.index.add(embedding)\n",
        "            self.save_cache()\n",
        "            end_time = time.time()\n",
        "            elapsed_time = end_time - start_time\n",
        "            print(f\"Time taken: {elapsed_time} seconds\")\n",
        "\n",
        "            return response_text\n",
        "        except Exception as e:\n",
        "            raise RuntimeError(f\"Error during 'ask' method: {e}\")\n",
        "\n",
        "    def generate_answer(self, question: str) -> str:\n",
        "        # Method to generate an answer using a separate function (make_prediction in this case)\n",
        "        try:\n",
        "            result = oecd_engine.query(question)\n",
        "            #response_text = result['data']['response_text']\n",
        "            response_text=result\n",
        "\n",
        "            return result, response_text\n",
        "        except Exception as e:\n",
        "            raise RuntimeError(f\"Error during 'generate_answer' method: {e}\")"
      ]
    },
    {
      "cell_type": "code",
      "execution_count": 34,
      "metadata": {
        "colab": {
          "base_uri": "https://localhost:8080/"
        },
        "id": "6zpmY0eMr0vc",
        "outputId": "f6e75bee-97b1-4636-82f6-5e90eb57301c"
      },
      "outputs": [
        {
          "output_type": "stream",
          "name": "stdout",
          "text": [
            "Index trained\n"
          ]
        }
      ],
      "source": [
        "cache = SemanticCaching()"
      ]
    },
    {
      "cell_type": "code",
      "execution_count": 36,
      "metadata": {
        "id": "yUYz0qqdtcEe"
      },
      "outputs": [],
      "source": [
        "import markdown\n",
        "from IPython.display import Markdown\n",
        "\n",
        "def print_gpt_markdown(markdown_text):\n",
        "    display(Markdown(markdown_text))"
      ]
    },
    {
      "cell_type": "code",
      "execution_count": 37,
      "metadata": {
        "colab": {
          "base_uri": "https://localhost:8080/"
        },
        "id": "o2MQgAUesCz_",
        "outputId": "b7bdb6f4-f7a5-4290-a9cc-57a4a3d63113"
      },
      "outputs": [
        {
          "output_type": "stream",
          "name": "stdout",
          "text": [
            "Found cache in row: 0 with score 1.0\n",
            "Time taken: 0.19003796577453613 seconds\n",
            "The best possible way to evaluate intangibles in transfer pricing involves a comprehensive approach that includes several key steps:\n",
            "\n",
            "1. **Identification of Intangibles**: Clearly define the specific intangibles involved in the transaction, such as patents, trademarks, or proprietary technology, and understand their significance.\n",
            "\n",
            "2. **Functional Analysis**: Conduct a thorough assessment of the functions performed, assets used, and risks assumed by each party in relation to the intangibles. This helps to delineate the contributions of each entity to value creation.\n",
            "\n",
            "3. **Valuation Techniques**: Employ appropriate valuation methods, which may include:\n",
            "   - **Income Approach**: Estimates value based on expected future economic benefits.\n",
            "   - **Market Approach**: Compares the intangible to similar assets sold or licensed in the market.\n",
            "   - **Cost Approach**: Considers the costs incurred in developing the intangible, adjusted for obsolescence.\n",
            "\n",
            "4. **Consideration of Unique Characteristics**: Recognize the unique aspects of the intangibles, such as exclusivity and legal protections, which may complicate the search for comparables.\n",
            "\n",
            "5. **Risk Assessment**: Evaluate the risks associated with the intangibles, including development and market risks, and understand how these risks are allocated between the parties.\n",
            "\n",
            "6. **Documentation and Compliance**: Maintain thorough documentation of the valuation process, methodologies used, and the rationale for the chosen approach to ensure compliance with transfer pricing regulations.\n",
            "\n",
            "7. **Periodic Review and Adjustment**: Regularly review the valuation to ensure it remains accurate and reflective of current market conditions and business realities, making adjustments as necessary.\n",
            "\n",
            "By following these steps, businesses can achieve a robust and defensible valuation of intangibles for transfer pricing purposes, aligning with the arm's length principle and regulatory requirements.\n"
          ]
        }
      ],
      "source": [
        "# Now Cache the request and response using Semantic Caching wherein the question is routed to a Question Answer engine\n",
        "response = cache.ask(\"What would be the best possible way to evaluate the Intangibles in Transfer Pricing?\")\n",
        "print(response)\n"
      ]
    },
    {
      "cell_type": "code",
      "source": [
        "# Querying the same agent with a different question but with same semantic meaning\n",
        "response = cache.ask(\"How can Intangibles be effectively evaluated in Transfer Pricing?\")\n",
        "print(response)\n"
      ],
      "metadata": {
        "id": "zjYw1nLP0AcM",
        "outputId": "02a730bc-aa3b-4fed-ab6c-b65738ecec76",
        "colab": {
          "base_uri": "https://localhost:8080/"
        }
      },
      "execution_count": 39,
      "outputs": [
        {
          "output_type": "stream",
          "name": "stdout",
          "text": [
            "Found cache in row: 0 with score 0.8939292430877686\n",
            "Time taken: 0.1310584545135498 seconds\n",
            "The best possible way to evaluate intangibles in transfer pricing involves a comprehensive approach that includes several key steps:\n",
            "\n",
            "1. **Identification of Intangibles**: Clearly define the specific intangibles involved in the transaction, such as patents, trademarks, or proprietary technology, and understand their significance.\n",
            "\n",
            "2. **Functional Analysis**: Conduct a thorough assessment of the functions performed, assets used, and risks assumed by each party in relation to the intangibles. This helps to delineate the contributions of each entity to value creation.\n",
            "\n",
            "3. **Valuation Techniques**: Employ appropriate valuation methods, which may include:\n",
            "   - **Income Approach**: Estimates value based on expected future economic benefits.\n",
            "   - **Market Approach**: Compares the intangible to similar assets sold or licensed in the market.\n",
            "   - **Cost Approach**: Considers the costs incurred in developing the intangible, adjusted for obsolescence.\n",
            "\n",
            "4. **Consideration of Unique Characteristics**: Recognize the unique aspects of the intangibles, such as exclusivity and legal protections, which may complicate the search for comparables.\n",
            "\n",
            "5. **Risk Assessment**: Evaluate the risks associated with the intangibles, including development and market risks, and understand how these risks are allocated between the parties.\n",
            "\n",
            "6. **Documentation and Compliance**: Maintain thorough documentation of the valuation process, methodologies used, and the rationale for the chosen approach to ensure compliance with transfer pricing regulations.\n",
            "\n",
            "7. **Periodic Review and Adjustment**: Regularly review the valuation to ensure it remains accurate and reflective of current market conditions and business realities, making adjustments as necessary.\n",
            "\n",
            "By following these steps, businesses can achieve a robust and defensible valuation of intangibles for transfer pricing purposes, aligning with the arm's length principle and regulatory requirements.\n"
          ]
        }
      ]
    },
    {
      "cell_type": "code",
      "source": [
        "# Querying the same agent with a different question but with same semantic meaning\n",
        "response = cache.ask(\"What methods are recommended for assessing Intangibles in Transfer Pricing?\")\n",
        "print(response)"
      ],
      "metadata": {
        "id": "2xi4s6fG0hiy",
        "outputId": "fa2418fe-14cd-4206-f384-d792c91e67c2",
        "colab": {
          "base_uri": "https://localhost:8080/"
        }
      },
      "execution_count": 40,
      "outputs": [
        {
          "output_type": "stream",
          "name": "stdout",
          "text": [
            "Found cache in row: 0 with score 0.8853908404707909\n",
            "Time taken: 0.13017606735229492 seconds\n",
            "The best possible way to evaluate intangibles in transfer pricing involves a comprehensive approach that includes several key steps:\n",
            "\n",
            "1. **Identification of Intangibles**: Clearly define the specific intangibles involved in the transaction, such as patents, trademarks, or proprietary technology, and understand their significance.\n",
            "\n",
            "2. **Functional Analysis**: Conduct a thorough assessment of the functions performed, assets used, and risks assumed by each party in relation to the intangibles. This helps to delineate the contributions of each entity to value creation.\n",
            "\n",
            "3. **Valuation Techniques**: Employ appropriate valuation methods, which may include:\n",
            "   - **Income Approach**: Estimates value based on expected future economic benefits.\n",
            "   - **Market Approach**: Compares the intangible to similar assets sold or licensed in the market.\n",
            "   - **Cost Approach**: Considers the costs incurred in developing the intangible, adjusted for obsolescence.\n",
            "\n",
            "4. **Consideration of Unique Characteristics**: Recognize the unique aspects of the intangibles, such as exclusivity and legal protections, which may complicate the search for comparables.\n",
            "\n",
            "5. **Risk Assessment**: Evaluate the risks associated with the intangibles, including development and market risks, and understand how these risks are allocated between the parties.\n",
            "\n",
            "6. **Documentation and Compliance**: Maintain thorough documentation of the valuation process, methodologies used, and the rationale for the chosen approach to ensure compliance with transfer pricing regulations.\n",
            "\n",
            "7. **Periodic Review and Adjustment**: Regularly review the valuation to ensure it remains accurate and reflective of current market conditions and business realities, making adjustments as necessary.\n",
            "\n",
            "By following these steps, businesses can achieve a robust and defensible valuation of intangibles for transfer pricing purposes, aligning with the arm's length principle and regulatory requirements.\n"
          ]
        }
      ]
    },
    {
      "cell_type": "code",
      "source": [
        "# Querying the same agent with a different question but with same semantic meaning\n",
        "response = cache.ask(\"What strategies are considered most effective for evaluating Intangibles in Transfer Pricing?\")\n",
        "print(response)"
      ],
      "metadata": {
        "id": "nnY-g_AL0x3V",
        "outputId": "96f59e13-70b5-47be-c950-5f385fde5c65",
        "colab": {
          "base_uri": "https://localhost:8080/"
        }
      },
      "execution_count": 41,
      "outputs": [
        {
          "output_type": "stream",
          "name": "stdout",
          "text": [
            "Found cache in row: 0 with score 0.8500476181507111\n",
            "Time taken: 0.8217461109161377 seconds\n",
            "The best possible way to evaluate intangibles in transfer pricing involves a comprehensive approach that includes several key steps:\n",
            "\n",
            "1. **Identification of Intangibles**: Clearly define the specific intangibles involved in the transaction, such as patents, trademarks, or proprietary technology, and understand their significance.\n",
            "\n",
            "2. **Functional Analysis**: Conduct a thorough assessment of the functions performed, assets used, and risks assumed by each party in relation to the intangibles. This helps to delineate the contributions of each entity to value creation.\n",
            "\n",
            "3. **Valuation Techniques**: Employ appropriate valuation methods, which may include:\n",
            "   - **Income Approach**: Estimates value based on expected future economic benefits.\n",
            "   - **Market Approach**: Compares the intangible to similar assets sold or licensed in the market.\n",
            "   - **Cost Approach**: Considers the costs incurred in developing the intangible, adjusted for obsolescence.\n",
            "\n",
            "4. **Consideration of Unique Characteristics**: Recognize the unique aspects of the intangibles, such as exclusivity and legal protections, which may complicate the search for comparables.\n",
            "\n",
            "5. **Risk Assessment**: Evaluate the risks associated with the intangibles, including development and market risks, and understand how these risks are allocated between the parties.\n",
            "\n",
            "6. **Documentation and Compliance**: Maintain thorough documentation of the valuation process, methodologies used, and the rationale for the chosen approach to ensure compliance with transfer pricing regulations.\n",
            "\n",
            "7. **Periodic Review and Adjustment**: Regularly review the valuation to ensure it remains accurate and reflective of current market conditions and business realities, making adjustments as necessary.\n",
            "\n",
            "By following these steps, businesses can achieve a robust and defensible valuation of intangibles for transfer pricing purposes, aligning with the arm's length principle and regulatory requirements.\n"
          ]
        }
      ]
    },
    {
      "cell_type": "code",
      "source": [
        "# Querying the same agent with a different question but with same semantic meaning\n",
        "response = cache.ask(\"How should Intangibles be properly assessed in the context of Transfer Pricing?\")\n",
        "print(response)"
      ],
      "metadata": {
        "id": "KwSGBMx0032z",
        "outputId": "2bc4b7ba-8d4e-4ade-e174-966a0bb3a2e2",
        "colab": {
          "base_uri": "https://localhost:8080/"
        }
      },
      "execution_count": 42,
      "outputs": [
        {
          "output_type": "stream",
          "name": "stdout",
          "text": [
            "Found cache in row: 0 with score 0.8263822793960571\n",
            "Time taken: 0.1281142234802246 seconds\n",
            "The best possible way to evaluate intangibles in transfer pricing involves a comprehensive approach that includes several key steps:\n",
            "\n",
            "1. **Identification of Intangibles**: Clearly define the specific intangibles involved in the transaction, such as patents, trademarks, or proprietary technology, and understand their significance.\n",
            "\n",
            "2. **Functional Analysis**: Conduct a thorough assessment of the functions performed, assets used, and risks assumed by each party in relation to the intangibles. This helps to delineate the contributions of each entity to value creation.\n",
            "\n",
            "3. **Valuation Techniques**: Employ appropriate valuation methods, which may include:\n",
            "   - **Income Approach**: Estimates value based on expected future economic benefits.\n",
            "   - **Market Approach**: Compares the intangible to similar assets sold or licensed in the market.\n",
            "   - **Cost Approach**: Considers the costs incurred in developing the intangible, adjusted for obsolescence.\n",
            "\n",
            "4. **Consideration of Unique Characteristics**: Recognize the unique aspects of the intangibles, such as exclusivity and legal protections, which may complicate the search for comparables.\n",
            "\n",
            "5. **Risk Assessment**: Evaluate the risks associated with the intangibles, including development and market risks, and understand how these risks are allocated between the parties.\n",
            "\n",
            "6. **Documentation and Compliance**: Maintain thorough documentation of the valuation process, methodologies used, and the rationale for the chosen approach to ensure compliance with transfer pricing regulations.\n",
            "\n",
            "7. **Periodic Review and Adjustment**: Regularly review the valuation to ensure it remains accurate and reflective of current market conditions and business realities, making adjustments as necessary.\n",
            "\n",
            "By following these steps, businesses can achieve a robust and defensible valuation of intangibles for transfer pricing purposes, aligning with the arm's length principle and regulatory requirements.\n"
          ]
        }
      ]
    },
    {
      "cell_type": "code",
      "source": [
        "# Querying the same agent with a different question but with same semantic meaning\n",
        "response = cache.ask(\"What are the most reliable approaches for evaluating Intangibles in Transfer Pricing?\")\n",
        "print(response)"
      ],
      "metadata": {
        "id": "jo1GpO0m08rY",
        "outputId": "dcff7fff-f3aa-4e52-9d19-72fa161154c4",
        "colab": {
          "base_uri": "https://localhost:8080/"
        }
      },
      "execution_count": 43,
      "outputs": [
        {
          "output_type": "stream",
          "name": "stdout",
          "text": [
            "Found cache in row: 0 with score 0.9031984657049179\n",
            "Time taken: 0.12759089469909668 seconds\n",
            "The best possible way to evaluate intangibles in transfer pricing involves a comprehensive approach that includes several key steps:\n",
            "\n",
            "1. **Identification of Intangibles**: Clearly define the specific intangibles involved in the transaction, such as patents, trademarks, or proprietary technology, and understand their significance.\n",
            "\n",
            "2. **Functional Analysis**: Conduct a thorough assessment of the functions performed, assets used, and risks assumed by each party in relation to the intangibles. This helps to delineate the contributions of each entity to value creation.\n",
            "\n",
            "3. **Valuation Techniques**: Employ appropriate valuation methods, which may include:\n",
            "   - **Income Approach**: Estimates value based on expected future economic benefits.\n",
            "   - **Market Approach**: Compares the intangible to similar assets sold or licensed in the market.\n",
            "   - **Cost Approach**: Considers the costs incurred in developing the intangible, adjusted for obsolescence.\n",
            "\n",
            "4. **Consideration of Unique Characteristics**: Recognize the unique aspects of the intangibles, such as exclusivity and legal protections, which may complicate the search for comparables.\n",
            "\n",
            "5. **Risk Assessment**: Evaluate the risks associated with the intangibles, including development and market risks, and understand how these risks are allocated between the parties.\n",
            "\n",
            "6. **Documentation and Compliance**: Maintain thorough documentation of the valuation process, methodologies used, and the rationale for the chosen approach to ensure compliance with transfer pricing regulations.\n",
            "\n",
            "7. **Periodic Review and Adjustment**: Regularly review the valuation to ensure it remains accurate and reflective of current market conditions and business realities, making adjustments as necessary.\n",
            "\n",
            "By following these steps, businesses can achieve a robust and defensible valuation of intangibles for transfer pricing purposes, aligning with the arm's length principle and regulatory requirements.\n"
          ]
        }
      ]
    }
  ],
  "metadata": {
    "colab": {
      "provenance": [],
      "authorship_tag": "ABX9TyPuA7FEQ95r3FbXXCiPPUsy",
      "include_colab_link": true
    },
    "kernelspec": {
      "display_name": "Python 3",
      "name": "python3"
    },
    "language_info": {
      "name": "python"
    }
  },
  "nbformat": 4,
  "nbformat_minor": 0
}