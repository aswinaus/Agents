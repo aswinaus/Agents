{
  "cells": [
    {
      "cell_type": "markdown",
      "metadata": {
        "id": "view-in-github",
        "colab_type": "text"
      },
      "source": [
        "<a href=\"https://colab.research.google.com/github/aswinaus/Agents/blob/main/Routing_Agent_with_Semantic_Caching.ipynb\" target=\"_parent\"><img src=\"https://colab.research.google.com/assets/colab-badge.svg\" alt=\"Open In Colab\"/></a>"
      ]
    },
    {
      "cell_type": "code",
      "execution_count": null,
      "metadata": {
        "id": "gL0ehB688W7m",
        "colab": {
          "base_uri": "https://localhost:8080/"
        },
        "outputId": "61cd24df-f3ce-442c-8777-3b40d9e2cabe"
      },
      "outputs": [
        {
          "output_type": "stream",
          "name": "stdout",
          "text": [
            "\u001b[2K   \u001b[90m━━━━━━━━━━━━━━━━━━━━━━━━━━━━━━━━━━━━━━━━\u001b[0m \u001b[32m1.6/1.6 MB\u001b[0m \u001b[31m9.7 MB/s\u001b[0m eta \u001b[36m0:00:00\u001b[0m\n",
            "\u001b[2K   \u001b[90m━━━━━━━━━━━━━━━━━━━━━━━━━━━━━━━━━━━━━━━━\u001b[0m \u001b[32m241.0/241.0 kB\u001b[0m \u001b[31m7.3 MB/s\u001b[0m eta \u001b[36m0:00:00\u001b[0m\n",
            "\u001b[2K   \u001b[90m━━━━━━━━━━━━━━━━━━━━━━━━━━━━━━━━━━━━━━━━\u001b[0m \u001b[32m298.0/298.0 kB\u001b[0m \u001b[31m9.9 MB/s\u001b[0m eta \u001b[36m0:00:00\u001b[0m\n",
            "\u001b[2K   \u001b[90m━━━━━━━━━━━━━━━━━━━━━━━━━━━━━━━━━━━━━━━━\u001b[0m \u001b[32m1.2/1.2 MB\u001b[0m \u001b[31m17.7 MB/s\u001b[0m eta \u001b[36m0:00:00\u001b[0m\n",
            "\u001b[2K   \u001b[90m━━━━━━━━━━━━━━━━━━━━━━━━━━━━━━━━━━━━━━━━\u001b[0m \u001b[32m49.6/49.6 kB\u001b[0m \u001b[31m2.6 MB/s\u001b[0m eta \u001b[36m0:00:00\u001b[0m\n",
            "\u001b[2K   \u001b[90m━━━━━━━━━━━━━━━━━━━━━━━━━━━━━━━━━━━━━━━━\u001b[0m \u001b[32m209.2/209.2 kB\u001b[0m \u001b[31m5.4 MB/s\u001b[0m eta \u001b[36m0:00:00\u001b[0m\n",
            "\u001b[2K   \u001b[90m━━━━━━━━━━━━━━━━━━━━━━━━━━━━━━━━━━━━━━━━\u001b[0m \u001b[32m2.5/2.5 MB\u001b[0m \u001b[31m38.8 MB/s\u001b[0m eta \u001b[36m0:00:00\u001b[0m\n",
            "\u001b[?25h"
          ]
        }
      ],
      "source": [
        "!pip install llama-index -q\n",
        "!pip install langchain -q\n",
        "!pip install langchain_experimental -q"
      ]
    },
    {
      "cell_type": "code",
      "execution_count": null,
      "metadata": {
        "id": "OnJM1Js08cA6"
      },
      "outputs": [],
      "source": [
        "import os\n",
        "import nest_asyncio\n",
        "nest_asyncio.apply()"
      ]
    },
    {
      "cell_type": "markdown",
      "source": [],
      "metadata": {
        "id": "pooXnxdK2YDa"
      }
    },
    {
      "cell_type": "code",
      "execution_count": null,
      "metadata": {
        "id": "BIjCyWxu8eTZ"
      },
      "outputs": [],
      "source": [
        "from google.colab import userdata\n",
        "# Set the OpenAI API key as an environment variable\n",
        "os.environ[\"OPENAI_API_KEY\"] =  userdata.get('OPENAI_API_KEY')"
      ]
    },
    {
      "cell_type": "code",
      "execution_count": null,
      "metadata": {
        "id": "0P4JFvnnIiqb"
      },
      "outputs": [],
      "source": [
        "from llama_index.llms.openai import OpenAI\n",
        "from llama_index.embeddings.openai import OpenAIEmbedding\n",
        "from llama_index.core import Settings\n",
        "# Setup OpenAI Model and Embeddings used for indexing the documents\n",
        "Settings.llm = OpenAI(model='gpt-4o-mini', temperature=0.2)\n",
        "Settings.embed_model = OpenAIEmbedding(model='text-embedding-3-small')\n",
        "Settings.chunk_size = 1024"
      ]
    },
    {
      "cell_type": "code",
      "execution_count": null,
      "metadata": {
        "colab": {
          "base_uri": "https://localhost:8080/"
        },
        "id": "GrCN4qNm8gPH",
        "outputId": "2febfdfa-a506-43b1-ab9c-539940e62668"
      },
      "outputs": [
        {
          "output_type": "stream",
          "name": "stdout",
          "text": [
            "Mounted at /content/drive\n"
          ]
        }
      ],
      "source": [
        "from google.colab import drive\n",
        "drive.mount('/content/drive')\n",
        "data_dir = '/content/drive/MyDrive' # Input a data dir path from your mounted Google Drive"
      ]
    },
    {
      "cell_type": "code",
      "execution_count": null,
      "metadata": {
        "id": "zp0wbYoD8j_L"
      },
      "outputs": [],
      "source": [
        "from llama_index.core.tools import QueryEngineTool, ToolMetadata\n",
        "from llama_index.core.query_engine import RouterQueryEngine\n",
        "from llama_index.core.selectors import LLMSingleSelector\n",
        "from llama_index.core import SimpleDirectoryReader\n",
        "from llama_index.core import StorageContext, load_index_from_storage\n",
        "from llama_index.core import VectorStoreIndex, SummaryIndex"
      ]
    },
    {
      "cell_type": "code",
      "execution_count": null,
      "metadata": {
        "id": "ajkpBWTSAwzi"
      },
      "outputs": [],
      "source": [
        "# In order to avoid repeated calls to LLMs we can store the documents index and load it if present else create it\n",
        "PERSIST_INDEX_DIR = f\"/{data_dir}/RAG/data/\"\n",
        "def get_index(index_name, doc_file_path):\n",
        "  index = None\n",
        "  if not os.path.exists(f\"{PERSIST_INDEX_DIR}{index_name}/\"):\n",
        "    # Load the documents\n",
        "    documents = SimpleDirectoryReader(input_files=[doc_file_path]).load_data()\n",
        "    index = VectorStoreIndex.from_documents(documents)\n",
        "    # Store the index to disk\n",
        "    index.storage_context.persist(f\"{PERSIST_INDEX_DIR}{index_name}/\")\n",
        "  else: # Load index from disk\n",
        "    storage_context = StorageContext.from_defaults(persist_dir=f\"{PERSIST_INDEX_DIR}{index_name}/\")\n",
        "    index = load_index_from_storage(storage_context)\n",
        "\n",
        "  return index"
      ]
    },
    {
      "cell_type": "code",
      "execution_count": null,
      "metadata": {
        "id": "bGX9M8OnIxhN"
      },
      "outputs": [],
      "source": [
        "# Load OECD guidelines documents for Transfer Pricing\n",
        "docs_OECD_guidelines = SimpleDirectoryReader(f\"{data_dir}/RAG/data/OECD/\").load_data()\n",
        "# Load OECD guidelines documents for Form990\n",
        "docs_Form990_guidelines = SimpleDirectoryReader(f\"{data_dir}/RAG/data/Form990/\").load_data()"
      ]
    },
    {
      "cell_type": "code",
      "execution_count": null,
      "metadata": {
        "id": "xvAM5eBOAyy4"
      },
      "outputs": [],
      "source": [
        "#initialise a storage context and use that for both Vector Index and Summary Index for OECD\n",
        "oecd_nodes = Settings.node_parser.get_nodes_from_documents(docs_OECD_guidelines)\n",
        "form990_nodes = Settings.node_parser.get_nodes_from_documents(docs_Form990_guidelines)\n",
        "\n",
        "oecd_storage_context = StorageContext.from_defaults()\n",
        "\n",
        "oecd_storage_context.docstore.add_documents(oecd_nodes)\n",
        "oecd_storage_context.docstore.add_documents(form990_nodes)\n",
        "# Setup Vector and Summary Index from Storage Context\n",
        "oecd_summary_index = SummaryIndex(oecd_nodes, storage_context=oecd_storage_context)\n",
        "oecd_vector_index = VectorStoreIndex(oecd_nodes, storage_context=oecd_storage_context)\n",
        "\n",
        "# Setup Indices.In order to avoid repeated calls to LLMs we can store the documents index and load it if present else create it\n",
        "OECD_index = get_index(\"OECDTPGuidelines\",f\"{data_dir}/RAG/data/OECD/OECD_Transfer_Pricing_Guidelines.pdf\")\n",
        "form990_guidelines_index = get_index(\"Form990Guidelines\",f\"{data_dir}/RAG/data/Form990/Form990_Guidelines.pdf\")"
      ]
    },
    {
      "cell_type": "code",
      "execution_count": null,
      "metadata": {
        "id": "0svi3grHC-hF"
      },
      "outputs": [],
      "source": [
        "from llama_index.core.tools import QueryEngineTool, ToolMetadata\n",
        "from llama_index.core.query_engine import RouterQueryEngine\n",
        "from llama_index.core.selectors import LLMSingleSelector\n",
        "# Create the query engines\n",
        "OECD_engine = OECD_index.as_query_engine(similarity_top_k=3)\n",
        "form990_guidelines_engine = form990_guidelines_index.as_query_engine(similarity_top_k=3)\n",
        "# Create tools for the query engines\n",
        "OECD_query_tool = QueryEngineTool(\n",
        "                      query_engine=OECD_engine,\n",
        "                      metadata=ToolMetadata(\n",
        "                          name=\"OECD_QueryEngineTool_2022\",\n",
        "                          description=\"Provides information about Transfer Pricing Guidelines for Organization from OECD for year 2022\"\n",
        "                      )\n",
        "                    )\n",
        "\n",
        "Form990_query_tool = QueryEngineTool(\n",
        "                      query_engine=form990_guidelines_engine,\n",
        "                      metadata=ToolMetadata(\n",
        "                          name=\"form990_2022\",\n",
        "                          description=\"Provides information about Central Jersey Form990 filling for the year 2022\"\n",
        "                      )\n",
        "                    )\n",
        "\n",
        "tools = [OECD_query_tool, Form990_query_tool]\n",
        "\n",
        "filing_engine = RouterQueryEngine(\n",
        "                      selector= LLMSingleSelector.from_defaults(),\n",
        "                      query_engine_tools=tools\n",
        "                      )"
      ]
    },
    {
      "cell_type": "code",
      "execution_count": null,
      "metadata": {
        "id": "yjT0PRiNEPqN"
      },
      "outputs": [],
      "source": [
        "OECD_query=\"What documentation and approach is required for the valuation of assets in Transfer Pricing?\"\n",
        "Form990_query=\"An organization receives contributions worth of $15000 which Form within Form990 should the organization complete before filing returns to IRS\""
      ]
    },
    {
      "cell_type": "code",
      "execution_count": null,
      "metadata": {
        "colab": {
          "base_uri": "https://localhost:8080/"
        },
        "id": "ufPBLWPdFX2v",
        "outputId": "2ac97cd4-f85b-4bbd-ddd3-4eacb4d5fc29"
      },
      "outputs": [
        {
          "output_type": "stream",
          "name": "stdout",
          "text": [
            "For the valuation of assets in transfer pricing, it is essential to follow a structured documentation approach. This includes:\n",
            "\n",
            "1. **Functional and Economic Analysis**: Conduct a thorough analysis to ensure that the functional and economic aspects of the transactions are accurately represented. This analysis should be periodically reviewed to confirm its relevance and accuracy.\n",
            "\n",
            "2. **Three-Tiered Documentation**: Implement a three-tiered approach that typically includes a master file, a local file, and a Country-by-Country Report. Each of these components should be updated annually, although certain elements may not change significantly from year to year.\n",
            "\n",
            "3. **Use of Comparables**: When valuing assets, it is important to identify and use reliable comparables. This involves a systematic process that includes determining the years to be covered, understanding the controlled transactions, and selecting the most appropriate transfer pricing method based on the circumstances.\n",
            "\n",
            "4. **Compliance with Local Regulations**: Ensure that the documentation complies with local laws, including language requirements for submission. Tax administrations may request translations if necessary.\n",
            "\n",
            "5. **Updating Comparables**: While the search for comparables may be updated every three years if operating conditions remain unchanged, financial data for these comparables should be updated annually to maintain compliance with the arm's length principle.\n",
            "\n",
            "By adhering to these guidelines, taxpayers can effectively document and support the valuation of assets in transfer pricing arrangements.\n",
            "\n",
            ".------------------.\n",
            "\n",
            "The organization should complete Schedule B (Form 990) to report on tax-deductible and non-tax-deductible contributions before filing returns to the IRS.\n",
            "\n",
            ".------------------.\n",
            "\n"
          ]
        }
      ],
      "source": [
        "response = filing_engine.query(OECD_query)\n",
        "print (response)\n",
        "print(\"\\n.------------------.\\n\")\n",
        "response = filing_engine.query(Form990_query)\n",
        "print (response)\n",
        "print(\"\\n.------------------.\\n\")"
      ]
    },
    {
      "cell_type": "code",
      "execution_count": null,
      "metadata": {
        "id": "XOIWBQ48H4Tq"
      },
      "outputs": [],
      "source": [
        "# Define the Summary and Vector query engines for OECD\n",
        "summary_query_engine = oecd_summary_index.as_query_engine(response_mode= \"tree_summarize\")\n",
        "vector_query_engine = oecd_vector_index.as_query_engine()\n",
        "\n",
        "# Now Create the query engine tools from the above query engines\n",
        "summary_tool = QueryEngineTool(\n",
        "                query_engine=summary_query_engine,\n",
        "                metadata=ToolMetadata(\n",
        "                    name=\"OECD_Summary\",\n",
        "                    description=\"Summarizes the OECD guidelines for Transfer Pricing\"\n",
        "                    )\n",
        "                )\n",
        "vector_tool = QueryEngineTool(\n",
        "                query_engine=vector_query_engine,\n",
        "                metadata = ToolMetadata(\n",
        "                    name=\"OECD_Guidelines_QA\",\n",
        "                    description=\"Retrieves answers for questions on OECD\"\n",
        "                    )\n",
        "                )\n",
        "oecd_tools = [summary_tool, vector_tool]\n",
        "# Now define the Router Query Engine\n",
        "oecd_engine = RouterQueryEngine(\n",
        "                      selector= LLMSingleSelector.from_defaults(),\n",
        "                      query_engine_tools=oecd_tools\n",
        "                      )\n"
      ]
    },
    {
      "cell_type": "code",
      "execution_count": null,
      "metadata": {
        "colab": {
          "base_uri": "https://localhost:8080/"
        },
        "id": "aYTIob1bLS7a",
        "outputId": "89027fb8-2ace-4c83-abbc-c9433439ec9e"
      },
      "outputs": [
        {
          "output_type": "stream",
          "name": "stdout",
          "text": [
            "The OECD guidelines for Transfer Pricing establish a framework for multinational enterprises (MNEs) to ensure that transactions between associated entities are priced in accordance with the arm's length principle. This principle mandates that the pricing of intercompany transactions should reflect the prices that would be charged between independent parties under comparable circumstances.\n",
            "\n",
            "Key elements of the guidelines include:\n",
            "\n",
            "1. **Arm's Length Principle**: Transactions should be priced as if they were between unrelated parties.\n",
            "\n",
            "2. **Functional Analysis**: A detailed assessment of the functions performed, assets used, and risks assumed by each party is essential for determining appropriate pricing.\n",
            "\n",
            "3. **Transfer Pricing Methods**: The guidelines outline several methods for establishing arm's length prices, including Comparable Uncontrolled Price (CUP), Resale Price Method, Cost Plus Method, Transactional Net Margin Method, and Profit Split Method. The choice of method should be based on the specific facts of each case.\n",
            "\n",
            "4. **Comparability Analysis**: This involves identifying and adjusting for differences between controlled and uncontrolled transactions that could materially affect pricing.\n",
            "\n",
            "5. **Documentation Requirements**: MNEs must maintain comprehensive documentation to support their transfer pricing practices, including a master file and local files detailing the organizational structure and financial information.\n",
            "\n",
            "6. **Risk Management**: Emphasizes the importance of identifying and managing risks associated with transfer pricing arrangements.\n",
            "\n",
            "7. **Indemnification and Compensation**: Addresses compensation for affected parties in cases of restructuring or termination of agreements.\n",
            "\n",
            "8. **Advance Pricing Agreements (APAs)**: Encourages the use of APAs to provide certainty regarding transfer pricing arrangements and to prevent disputes.\n",
            "\n",
            "9. **Dispute Resolution**: Recommends administrative approaches, such as mutual agreement procedures, to resolve disputes and avoid double taxation.\n",
            "\n",
            "Overall, the guidelines aim to promote transparency, consistency, and fairness in international taxation, facilitating cross-border trade and investment while reducing the risk of double taxation and tax avoidance.\n"
          ]
        }
      ],
      "source": [
        "# Summarization routing\n",
        "response = oecd_engine.query(\"Summarize the OECD guidelines for Transfer Pricing?\")\n",
        "print (response)"
      ]
    },
    {
      "cell_type": "code",
      "execution_count": null,
      "metadata": {
        "colab": {
          "base_uri": "https://localhost:8080/"
        },
        "id": "gIgKtJ7xo09O",
        "outputId": "ad364e93-8235-485d-cf21-87d0466e055a"
      },
      "outputs": [
        {
          "output_type": "stream",
          "name": "stdout",
          "text": [
            "selections=[SingleSelection(index=0, reason='The question specifically asks for a summary of the OECD guidelines for Transfer Pricing, which corresponds directly to choice 1.')]\n"
          ]
        }
      ],
      "source": [
        "# To Confirm whether the Summary Engine was used\n",
        "print (response.metadata[\"selector_result\"])"
      ]
    },
    {
      "cell_type": "code",
      "execution_count": null,
      "metadata": {
        "colab": {
          "base_uri": "https://localhost:8080/"
        },
        "id": "8mINCkWbpQvO",
        "outputId": "2adb5b68-4328-48d0-ef7d-bf065a9858c2"
      },
      "outputs": [
        {
          "output_type": "stream",
          "name": "stdout",
          "text": [
            "The best possible way to evaluate intangibles in transfer pricing involves a comprehensive approach that includes several key steps:\n",
            "\n",
            "1. **Identification of Intangibles**: Clearly define the specific intangible assets involved, such as patents, trademarks, or proprietary technologies.\n",
            "\n",
            "2. **Functional Analysis**: Conduct a detailed analysis to understand the roles and contributions of each party in relation to the intangibles, including the functions performed, assets used, and risks assumed.\n",
            "\n",
            "3. **Valuation Techniques**: Utilize appropriate valuation methods, which may include:\n",
            "   - **Comparable Uncontrolled Price (CUP) Method**: When reliable comparables are available.\n",
            "   - **Income Approach**: Estimating the present value of future economic benefits expected from the intangible.\n",
            "   - **Cost Approach**: Assessing the costs incurred in developing the intangible, though this may not always reflect market value.\n",
            "\n",
            "4. **Comparability Analysis**: Identify comparable uncontrolled transactions to establish arm's length pricing by comparing terms and conditions with independent enterprises.\n",
            "\n",
            "5. **Consideration of Risks**: Evaluate the risks associated with the intangibles and how they are allocated among the parties, ensuring that the entity assuming significant risks is compensated accordingly.\n",
            "\n",
            "6. **Documentation**: Maintain thorough documentation of the valuation process, including methodologies used, assumptions made, and relevant market data. This is crucial for compliance and justifying the valuation to tax authorities.\n",
            "\n",
            "7. **Ongoing Review**: Regularly review and update the valuation to reflect changes in market conditions, business strategies, or regulatory environments.\n",
            "\n",
            "By following these steps, businesses can achieve a reliable and defensible valuation of intangibles for transfer pricing purposes, ensuring compliance with the arm's length principle.\n"
          ]
        }
      ],
      "source": [
        "# Now route to a Question Answer engine\n",
        "response = oecd_engine.query(\"What would be the best possible way to evaluate the Intangibles in Transfer Pricing?\")\n",
        "print (response)"
      ]
    },
    {
      "cell_type": "code",
      "execution_count": null,
      "metadata": {
        "colab": {
          "base_uri": "https://localhost:8080/"
        },
        "id": "wETxPwaSqWJ2",
        "outputId": "53ccbcc2-6891-4378-f14d-a289a39d33d2"
      },
      "outputs": [
        {
          "output_type": "stream",
          "name": "stdout",
          "text": [
            "selections=[SingleSelection(index=0, reason='The OECD guidelines for Transfer Pricing provide a framework for evaluating intangibles in transfer pricing, making it the most relevant choice.')]\n"
          ]
        }
      ],
      "source": [
        "# Confirm that Vector Engine was used.\n",
        "print (response.metadata[\"selector_result\"])"
      ]
    },
    {
      "cell_type": "code",
      "execution_count": null,
      "metadata": {
        "id": "4tET00dfrcr0"
      },
      "outputs": [],
      "source": [
        "!pip install -U faiss-cpu sentence_transformers transformers"
      ]
    },
    {
      "cell_type": "code",
      "execution_count": null,
      "metadata": {
        "id": "ESbgPvWSrQ6-"
      },
      "outputs": [],
      "source": [
        "import faiss\n",
        "import json\n",
        "import numpy as np\n",
        "from sentence_transformers import SentenceTransformer\n",
        "from transformers import AutoTokenizer, AutoModelForCausalLM\n",
        "import time\n",
        "\n",
        "class SemanticCaching:\n",
        "    def __init__(self, json_file='cache.json'):\n",
        "        # Initialize Faiss index  with Euclidean distance\n",
        "        self.index =faiss.IndexFlatL2(768)  # Use IndexFlatL2 with Euclidean distance\n",
        "        if self.index.is_trained:\n",
        "            print('Index trained')\n",
        "\n",
        "        # Initialize Sentence Transformer model\n",
        "        self.encoder = SentenceTransformer('all-mpnet-base-v2')\n",
        "\n",
        "\n",
        "        # Uncomment the following lines to use DialoGPT for question generation\n",
        "        # self.tokenizer = AutoTokenizer.from_pretrained(\"microsoft/DialoGPT-large\")\n",
        "        # self.model = AutoModelForCausalLM.from_pretrained(\"microsoft/DialoGPT-large\")\n",
        "\n",
        "        # Set Euclidean distance threshold\n",
        "        self.euclidean_threshold = 0.3\n",
        "        self.json_file = json_file\n",
        "        self.load_cache()\n",
        "\n",
        "    def load_cache(self):\n",
        "        # Load cache from JSON file, creating an empty cache if the file is not found\n",
        "        try:\n",
        "            with open(self.json_file, 'r') as file:\n",
        "                self.cache = json.load(file)\n",
        "        except FileNotFoundError:\n",
        "            self.cache = {'questions': [], 'embeddings': [], 'answers': [], 'response_text': []}\n",
        "\n",
        "    def save_cache(self):\n",
        "        # Save the cache to the JSON file\n",
        "        with open(self.json_file, 'w') as file:\n",
        "            json.dump(self.cache, file)\n",
        "\n",
        "    def ask(self, question: str) -> str:\n",
        "        # Method to retrieve an answer from the cache or generate a new one\n",
        "        start_time = time.time()\n",
        "        try:\n",
        "            l = [question]\n",
        "            embedding = self.encoder.encode(l)\n",
        "\n",
        "            # Search for the nearest neighbor in the index\n",
        "            D, I = self.index.search(embedding, 1)\n",
        "\n",
        "            if D[0] >= 0:\n",
        "                if I[0][0] != -1 and D[0][0] <= self.euclidean_threshold:\n",
        "                    row_id = int(I[0][0])\n",
        "                    print(f'Found cache in row: {row_id} with score {1 - D[0][0]}') #score inversed to show similarity\n",
        "                    end_time = time.time()\n",
        "                    elapsed_time = end_time - start_time\n",
        "                    print(f\"Time taken: {elapsed_time} seconds\")\n",
        "                    return self.cache['response_text'][row_id]\n",
        "\n",
        "            # Handle the case when there are not enough results or Euclidean distance is not met\n",
        "            answer, response_text = self.generate_answer(question)\n",
        "\n",
        "            self.cache['questions'].append(question)\n",
        "            self.cache['embeddings'].append(embedding[0].tolist())\n",
        "            self.cache['answers'].append(answer)\n",
        "            self.cache['response_text'].append(response_text)\n",
        "\n",
        "            self.index.add(embedding)\n",
        "            self.save_cache()\n",
        "            end_time = time.time()\n",
        "            elapsed_time = end_time - start_time\n",
        "            print(f\"Time taken: {elapsed_time} seconds\")\n",
        "\n",
        "            return response_text\n",
        "        except Exception as e:\n",
        "            raise RuntimeError(f\"Error during 'ask' method: {e}\")\n",
        "\n",
        "    def generate_answer(self, question: str) -> str:\n",
        "        # Method to generate an answer using a separate function (make_prediction in this case)\n",
        "        try:\n",
        "            result = oecd_engine.query(question)\n",
        "            #response_text = result['data']['response_text']\n",
        "            response_text=result\n",
        "\n",
        "            return result, response_text\n",
        "        except Exception as e:\n",
        "            raise RuntimeError(f\"Error during 'generate_answer' method: {e}\")"
      ]
    },
    {
      "cell_type": "code",
      "execution_count": null,
      "metadata": {
        "id": "6zpmY0eMr0vc"
      },
      "outputs": [],
      "source": [
        "cache = SemanticCaching()"
      ]
    },
    {
      "cell_type": "code",
      "execution_count": null,
      "metadata": {
        "id": "yUYz0qqdtcEe"
      },
      "outputs": [],
      "source": [
        "import markdown\n",
        "from IPython.display import Markdown\n",
        "\n",
        "def print_gpt_markdown(markdown_text):\n",
        "    display(Markdown(markdown_text))"
      ]
    },
    {
      "cell_type": "code",
      "execution_count": null,
      "metadata": {
        "colab": {
          "base_uri": "https://localhost:8080/"
        },
        "id": "o2MQgAUesCz_",
        "outputId": "2f94ab16-0716-41ee-9e71-d7fac183df4d"
      },
      "outputs": [
        {
          "output_type": "stream",
          "name": "stdout",
          "text": [
            "Found cache in row: 0 with score 1.0\n",
            "Time taken: 0.13820385932922363 seconds\n",
            "The best possible way to evaluate intangibles in transfer pricing involves a comprehensive approach that adheres to the arm's length principle. This includes conducting a thorough functional analysis to assess the contributions of each party involved in the transaction, focusing on the functions performed, assets used, and risks assumed.\n",
            "\n",
            "Key steps in this evaluation process include:\n",
            "\n",
            "1. **Functional Analysis**: Identify and assess the specific contributions made by each entity regarding the development, enhancement, maintenance, protection, and exploitation of the intangible assets.\n",
            "\n",
            "2. **Identification of Intangibles**: Clearly define the intangible assets involved, such as patents, trademarks, or proprietary technology, and understand their unique characteristics.\n",
            "\n",
            "3. **Valuation Techniques**: Utilize appropriate valuation methods, including:\n",
            "   - **Comparable Uncontrolled Price (CUP) Method**: When reliable comparables exist, this method benchmarks against similar transactions.\n",
            "   - **Income Approach**: For hard-to-value intangibles, use discounted cash flow methods to estimate the present value of expected future cash flows.\n",
            "   - **Cost Approach**: Assess the costs incurred in developing the intangible.\n",
            "\n",
            "4. **Consideration of Risks**: Evaluate the risks associated with the intangibles and determine which party assumes those risks, as this can significantly impact valuation.\n",
            "\n",
            "5. **Market Conditions**: Analyze the economic and market conditions that may affect the value of the intangibles, including competitive advantages and regulatory factors.\n",
            "\n",
            "6. **Documentation**: Maintain thorough documentation of the valuation process, including methodologies used, assumptions made, and relevant market data, to support compliance with tax administrations.\n",
            "\n",
            "7. **Ongoing Monitoring**: Regularly review and update the valuation to reflect changes in market conditions, business strategies, or the operational environment.\n",
            "\n",
            "By following these steps, entities can achieve a reliable and defensible valuation of intangibles for transfer pricing purposes, ensuring alignment with the arm's length principle.\n"
          ]
        }
      ],
      "source": [
        "# Now Cache the request and response using Semantic Caching wherein the question is routed to a Question Answer engine\n",
        "response = cache.ask(\"What would be the best possible way to evaluate the Intangibles in Transfer Pricing?\")\n",
        "print(response)\n"
      ]
    },
    {
      "cell_type": "code",
      "source": [
        "# Querying the same agent with a different question but with same semantic meaning\n",
        "response = cache.ask(\"How can Intangibles be effectively evaluated in Transfer Pricing?\")\n",
        "print(response)\n"
      ],
      "metadata": {
        "colab": {
          "base_uri": "https://localhost:8080/"
        },
        "id": "zjYw1nLP0AcM",
        "outputId": "f32318fd-ec08-4e75-99de-c04e17c32c32"
      },
      "execution_count": null,
      "outputs": [
        {
          "output_type": "stream",
          "name": "stdout",
          "text": [
            "Found cache in row: 0 with score 0.8939292430877686\n",
            "Time taken: 0.11674809455871582 seconds\n",
            "The best possible way to evaluate intangibles in transfer pricing involves a comprehensive approach that adheres to the arm's length principle. This includes conducting a thorough functional analysis to assess the contributions of each party involved in the transaction, focusing on the functions performed, assets used, and risks assumed.\n",
            "\n",
            "Key steps in this evaluation process include:\n",
            "\n",
            "1. **Functional Analysis**: Identify and assess the specific contributions made by each entity regarding the development, enhancement, maintenance, protection, and exploitation of the intangible assets.\n",
            "\n",
            "2. **Identification of Intangibles**: Clearly define the intangible assets involved, such as patents, trademarks, or proprietary technology, and understand their unique characteristics.\n",
            "\n",
            "3. **Valuation Techniques**: Utilize appropriate valuation methods, including:\n",
            "   - **Comparable Uncontrolled Price (CUP) Method**: When reliable comparables exist, this method benchmarks against similar transactions.\n",
            "   - **Income Approach**: For hard-to-value intangibles, use discounted cash flow methods to estimate the present value of expected future cash flows.\n",
            "   - **Cost Approach**: Assess the costs incurred in developing the intangible.\n",
            "\n",
            "4. **Consideration of Risks**: Evaluate the risks associated with the intangibles and determine which party assumes those risks, as this can significantly impact valuation.\n",
            "\n",
            "5. **Market Conditions**: Analyze the economic and market conditions that may affect the value of the intangibles, including competitive advantages and regulatory factors.\n",
            "\n",
            "6. **Documentation**: Maintain thorough documentation of the valuation process, including methodologies used, assumptions made, and relevant market data, to support compliance with tax administrations.\n",
            "\n",
            "7. **Ongoing Monitoring**: Regularly review and update the valuation to reflect changes in market conditions, business strategies, or the operational environment.\n",
            "\n",
            "By following these steps, entities can achieve a reliable and defensible valuation of intangibles for transfer pricing purposes, ensuring alignment with the arm's length principle.\n"
          ]
        }
      ]
    },
    {
      "cell_type": "code",
      "source": [
        "# Querying the same agent with a different question but with same semantic meaning\n",
        "response = cache.ask(\"What methods are recommended for assessing Intangibles in Transfer Pricing?\")\n",
        "print(response)"
      ],
      "metadata": {
        "colab": {
          "base_uri": "https://localhost:8080/"
        },
        "id": "2xi4s6fG0hiy",
        "outputId": "7ce39e61-486c-4418-9460-25147fa4ecde"
      },
      "execution_count": null,
      "outputs": [
        {
          "output_type": "stream",
          "name": "stdout",
          "text": [
            "Found cache in row: 0 with score 0.8853908404707909\n",
            "Time taken: 0.1242213249206543 seconds\n",
            "The best possible way to evaluate intangibles in transfer pricing involves a comprehensive approach that adheres to the arm's length principle. This includes conducting a thorough functional analysis to assess the contributions of each party involved in the transaction, focusing on the functions performed, assets used, and risks assumed.\n",
            "\n",
            "Key steps in this evaluation process include:\n",
            "\n",
            "1. **Functional Analysis**: Identify and assess the specific contributions made by each entity regarding the development, enhancement, maintenance, protection, and exploitation of the intangible assets.\n",
            "\n",
            "2. **Identification of Intangibles**: Clearly define the intangible assets involved, such as patents, trademarks, or proprietary technology, and understand their unique characteristics.\n",
            "\n",
            "3. **Valuation Techniques**: Utilize appropriate valuation methods, including:\n",
            "   - **Comparable Uncontrolled Price (CUP) Method**: When reliable comparables exist, this method benchmarks against similar transactions.\n",
            "   - **Income Approach**: For hard-to-value intangibles, use discounted cash flow methods to estimate the present value of expected future cash flows.\n",
            "   - **Cost Approach**: Assess the costs incurred in developing the intangible.\n",
            "\n",
            "4. **Consideration of Risks**: Evaluate the risks associated with the intangibles and determine which party assumes those risks, as this can significantly impact valuation.\n",
            "\n",
            "5. **Market Conditions**: Analyze the economic and market conditions that may affect the value of the intangibles, including competitive advantages and regulatory factors.\n",
            "\n",
            "6. **Documentation**: Maintain thorough documentation of the valuation process, including methodologies used, assumptions made, and relevant market data, to support compliance with tax administrations.\n",
            "\n",
            "7. **Ongoing Monitoring**: Regularly review and update the valuation to reflect changes in market conditions, business strategies, or the operational environment.\n",
            "\n",
            "By following these steps, entities can achieve a reliable and defensible valuation of intangibles for transfer pricing purposes, ensuring alignment with the arm's length principle.\n"
          ]
        }
      ]
    },
    {
      "cell_type": "code",
      "source": [
        "# Querying the same agent with a different question but with same semantic meaning\n",
        "response = cache.ask(\"What strategies are considered most effective for evaluating Intangibles in Transfer Pricing?\")\n",
        "print(response)"
      ],
      "metadata": {
        "colab": {
          "base_uri": "https://localhost:8080/"
        },
        "id": "nnY-g_AL0x3V",
        "outputId": "5ce20a19-a3a4-40b6-895b-d8f06e02136d"
      },
      "execution_count": null,
      "outputs": [
        {
          "output_type": "stream",
          "name": "stdout",
          "text": [
            "Found cache in row: 0 with score 0.8500476181507111\n",
            "Time taken: 0.1260666847229004 seconds\n",
            "The best possible way to evaluate intangibles in transfer pricing involves a comprehensive approach that adheres to the arm's length principle. This includes conducting a thorough functional analysis to assess the contributions of each party involved in the transaction, focusing on the functions performed, assets used, and risks assumed.\n",
            "\n",
            "Key steps in this evaluation process include:\n",
            "\n",
            "1. **Functional Analysis**: Identify and assess the specific contributions made by each entity regarding the development, enhancement, maintenance, protection, and exploitation of the intangible assets.\n",
            "\n",
            "2. **Identification of Intangibles**: Clearly define the intangible assets involved, such as patents, trademarks, or proprietary technology, and understand their unique characteristics.\n",
            "\n",
            "3. **Valuation Techniques**: Utilize appropriate valuation methods, including:\n",
            "   - **Comparable Uncontrolled Price (CUP) Method**: When reliable comparables exist, this method benchmarks against similar transactions.\n",
            "   - **Income Approach**: For hard-to-value intangibles, use discounted cash flow methods to estimate the present value of expected future cash flows.\n",
            "   - **Cost Approach**: Assess the costs incurred in developing the intangible.\n",
            "\n",
            "4. **Consideration of Risks**: Evaluate the risks associated with the intangibles and determine which party assumes those risks, as this can significantly impact valuation.\n",
            "\n",
            "5. **Market Conditions**: Analyze the economic and market conditions that may affect the value of the intangibles, including competitive advantages and regulatory factors.\n",
            "\n",
            "6. **Documentation**: Maintain thorough documentation of the valuation process, including methodologies used, assumptions made, and relevant market data, to support compliance with tax administrations.\n",
            "\n",
            "7. **Ongoing Monitoring**: Regularly review and update the valuation to reflect changes in market conditions, business strategies, or the operational environment.\n",
            "\n",
            "By following these steps, entities can achieve a reliable and defensible valuation of intangibles for transfer pricing purposes, ensuring alignment with the arm's length principle.\n"
          ]
        }
      ]
    },
    {
      "cell_type": "code",
      "source": [
        "# Querying the same agent with a different question but with same semantic meaning\n",
        "response = cache.ask(\"How should Intangibles be properly assessed in the context of Transfer Pricing?\")\n",
        "print(response)"
      ],
      "metadata": {
        "colab": {
          "base_uri": "https://localhost:8080/"
        },
        "id": "KwSGBMx0032z",
        "outputId": "70a6ebb2-e537-41d6-a85c-0390fbfddcc1"
      },
      "execution_count": null,
      "outputs": [
        {
          "output_type": "stream",
          "name": "stdout",
          "text": [
            "Found cache in row: 0 with score 0.8263822793960571\n",
            "Time taken: 0.21420955657958984 seconds\n",
            "The best possible way to evaluate intangibles in transfer pricing involves a comprehensive approach that adheres to the arm's length principle. This includes conducting a thorough functional analysis to assess the contributions of each party involved in the transaction, focusing on the functions performed, assets used, and risks assumed.\n",
            "\n",
            "Key steps in this evaluation process include:\n",
            "\n",
            "1. **Functional Analysis**: Identify and assess the specific contributions made by each entity regarding the development, enhancement, maintenance, protection, and exploitation of the intangible assets.\n",
            "\n",
            "2. **Identification of Intangibles**: Clearly define the intangible assets involved, such as patents, trademarks, or proprietary technology, and understand their unique characteristics.\n",
            "\n",
            "3. **Valuation Techniques**: Utilize appropriate valuation methods, including:\n",
            "   - **Comparable Uncontrolled Price (CUP) Method**: When reliable comparables exist, this method benchmarks against similar transactions.\n",
            "   - **Income Approach**: For hard-to-value intangibles, use discounted cash flow methods to estimate the present value of expected future cash flows.\n",
            "   - **Cost Approach**: Assess the costs incurred in developing the intangible.\n",
            "\n",
            "4. **Consideration of Risks**: Evaluate the risks associated with the intangibles and determine which party assumes those risks, as this can significantly impact valuation.\n",
            "\n",
            "5. **Market Conditions**: Analyze the economic and market conditions that may affect the value of the intangibles, including competitive advantages and regulatory factors.\n",
            "\n",
            "6. **Documentation**: Maintain thorough documentation of the valuation process, including methodologies used, assumptions made, and relevant market data, to support compliance with tax administrations.\n",
            "\n",
            "7. **Ongoing Monitoring**: Regularly review and update the valuation to reflect changes in market conditions, business strategies, or the operational environment.\n",
            "\n",
            "By following these steps, entities can achieve a reliable and defensible valuation of intangibles for transfer pricing purposes, ensuring alignment with the arm's length principle.\n"
          ]
        }
      ]
    },
    {
      "cell_type": "code",
      "source": [
        "# Querying the same agent with a different question but with same semantic meaning\n",
        "response = cache.ask(\"What are the most reliable approaches for evaluating Intangibles in Transfer Pricing?\")\n",
        "print(response)"
      ],
      "metadata": {
        "colab": {
          "base_uri": "https://localhost:8080/"
        },
        "id": "jo1GpO0m08rY",
        "outputId": "0bbf6e60-7aba-461a-ec7a-0626e87f273d"
      },
      "execution_count": null,
      "outputs": [
        {
          "output_type": "stream",
          "name": "stdout",
          "text": [
            "Found cache in row: 0 with score 0.9031984657049179\n",
            "Time taken: 0.12486481666564941 seconds\n",
            "The best possible way to evaluate intangibles in transfer pricing involves a comprehensive approach that adheres to the arm's length principle. This includes conducting a thorough functional analysis to assess the contributions of each party involved in the transaction, focusing on the functions performed, assets used, and risks assumed.\n",
            "\n",
            "Key steps in this evaluation process include:\n",
            "\n",
            "1. **Functional Analysis**: Identify and assess the specific contributions made by each entity regarding the development, enhancement, maintenance, protection, and exploitation of the intangible assets.\n",
            "\n",
            "2. **Identification of Intangibles**: Clearly define the intangible assets involved, such as patents, trademarks, or proprietary technology, and understand their unique characteristics.\n",
            "\n",
            "3. **Valuation Techniques**: Utilize appropriate valuation methods, including:\n",
            "   - **Comparable Uncontrolled Price (CUP) Method**: When reliable comparables exist, this method benchmarks against similar transactions.\n",
            "   - **Income Approach**: For hard-to-value intangibles, use discounted cash flow methods to estimate the present value of expected future cash flows.\n",
            "   - **Cost Approach**: Assess the costs incurred in developing the intangible.\n",
            "\n",
            "4. **Consideration of Risks**: Evaluate the risks associated with the intangibles and determine which party assumes those risks, as this can significantly impact valuation.\n",
            "\n",
            "5. **Market Conditions**: Analyze the economic and market conditions that may affect the value of the intangibles, including competitive advantages and regulatory factors.\n",
            "\n",
            "6. **Documentation**: Maintain thorough documentation of the valuation process, including methodologies used, assumptions made, and relevant market data, to support compliance with tax administrations.\n",
            "\n",
            "7. **Ongoing Monitoring**: Regularly review and update the valuation to reflect changes in market conditions, business strategies, or the operational environment.\n",
            "\n",
            "By following these steps, entities can achieve a reliable and defensible valuation of intangibles for transfer pricing purposes, ensuring alignment with the arm's length principle.\n"
          ]
        }
      ]
    }
  ],
  "metadata": {
    "colab": {
      "provenance": [],
      "authorship_tag": "ABX9TyPxzrbm6NBFB0Vi/PCQhe7S",
      "include_colab_link": true
    },
    "kernelspec": {
      "display_name": "Python 3",
      "name": "python3"
    },
    "language_info": {
      "name": "python"
    }
  },
  "nbformat": 4,
  "nbformat_minor": 0
}