{
  "nbformat": 4,
  "nbformat_minor": 0,
  "metadata": {
    "colab": {
      "provenance": [],
      "authorship_tag": "ABX9TyOlpqp53Ew9Ektm0cKhF8K3",
      "include_colab_link": true
    },
    "kernelspec": {
      "name": "python3",
      "display_name": "Python 3"
    },
    "language_info": {
      "name": "python"
    }
  },
  "cells": [
    {
      "cell_type": "markdown",
      "metadata": {
        "id": "view-in-github",
        "colab_type": "text"
      },
      "source": [
        "<a href=\"https://colab.research.google.com/github/aswinaus/Agents/blob/main/ReAct_Agent_llama_Index.ipynb\" target=\"_parent\"><img src=\"https://colab.research.google.com/assets/colab-badge.svg\" alt=\"Open In Colab\"/></a>"
      ]
    },
    {
      "cell_type": "code",
      "execution_count": null,
      "metadata": {
        "colab": {
          "base_uri": "https://localhost:8080/"
        },
        "id": "qpEGNalHDvqV",
        "outputId": "29d3480f-5c68-4e99-dd78-8cc6a39b4fd7"
      },
      "outputs": [
        {
          "output_type": "stream",
          "name": "stdout",
          "text": [
            "\u001b[2K   \u001b[90m━━━━━━━━━━━━━━━━━━━━━━━━━━━━━━━━━━━━━━━━\u001b[0m \u001b[32m1.6/1.6 MB\u001b[0m \u001b[31m27.3 MB/s\u001b[0m eta \u001b[36m0:00:00\u001b[0m\n",
            "\u001b[2K   \u001b[90m━━━━━━━━━━━━━━━━━━━━━━━━━━━━━━━━━━━━━━━━\u001b[0m \u001b[32m241.0/241.0 kB\u001b[0m \u001b[31m14.9 MB/s\u001b[0m eta \u001b[36m0:00:00\u001b[0m\n",
            "\u001b[2K   \u001b[90m━━━━━━━━━━━━━━━━━━━━━━━━━━━━━━━━━━━━━━━━\u001b[0m \u001b[32m298.0/298.0 kB\u001b[0m \u001b[31m12.3 MB/s\u001b[0m eta \u001b[36m0:00:00\u001b[0m\n",
            "\u001b[2K   \u001b[90m━━━━━━━━━━━━━━━━━━━━━━━━━━━━━━━━━━━━━━━━\u001b[0m \u001b[32m1.2/1.2 MB\u001b[0m \u001b[31m30.4 MB/s\u001b[0m eta \u001b[36m0:00:00\u001b[0m\n",
            "\u001b[2K   \u001b[90m━━━━━━━━━━━━━━━━━━━━━━━━━━━━━━━━━━━━━━━━\u001b[0m \u001b[32m49.6/49.6 kB\u001b[0m \u001b[31m2.5 MB/s\u001b[0m eta \u001b[36m0:00:00\u001b[0m\n",
            "\u001b[2K   \u001b[90m━━━━━━━━━━━━━━━━━━━━━━━━━━━━━━━━━━━━━━━━\u001b[0m \u001b[32m209.2/209.2 kB\u001b[0m \u001b[31m9.9 MB/s\u001b[0m eta \u001b[36m0:00:00\u001b[0m\n",
            "\u001b[2K   \u001b[90m━━━━━━━━━━━━━━━━━━━━━━━━━━━━━━━━━━━━━━━━\u001b[0m \u001b[32m2.5/2.5 MB\u001b[0m \u001b[31m66.1 MB/s\u001b[0m eta \u001b[36m0:00:00\u001b[0m\n",
            "\u001b[?25h"
          ]
        }
      ],
      "source": [
        "!pip install llama-index -q\n",
        "!pip install langchain -q\n",
        "!pip install langchain_experimental -q"
      ]
    },
    {
      "cell_type": "code",
      "source": [
        "import os\n",
        "import nest_asyncio\n",
        "nest_asyncio.apply()"
      ],
      "metadata": {
        "id": "ul8zj9UhETD4"
      },
      "execution_count": null,
      "outputs": []
    },
    {
      "cell_type": "code",
      "source": [
        "from google.colab import userdata\n",
        "# Set the OpenAI API key as an environment variable\n",
        "os.environ[\"OPENAI_API_KEY\"] =  userdata.get('OPENAI_API_KEY')"
      ],
      "metadata": {
        "id": "rRxaZjaZEXWT"
      },
      "execution_count": null,
      "outputs": []
    },
    {
      "cell_type": "code",
      "source": [
        "from llama_index.llms.openai import OpenAI\n",
        "from llama_index.embeddings.openai import OpenAIEmbedding\n",
        "from llama_index.core import Settings\n",
        "# Setup OpenAI Model and Embeddings used for indexing the documents\n",
        "Settings.llm = OpenAI(model='gpt-4o-mini', temperature=0.2)\n",
        "Settings.embed_model = OpenAIEmbedding(model='text-embedding-3-small')\n",
        "Settings.chunk_size = 1024"
      ],
      "metadata": {
        "id": "D38Nn8M1Eey2"
      },
      "execution_count": null,
      "outputs": []
    },
    {
      "cell_type": "code",
      "source": [
        "from google.colab import drive\n",
        "drive.mount('/content/drive')\n",
        "data_dir = '/content/drive/MyDrive' # Input a data dir path from your mounted Google Drive"
      ],
      "metadata": {
        "colab": {
          "base_uri": "https://localhost:8080/"
        },
        "id": "ZiGL3yLfF-hV",
        "outputId": "10119f32-3e1d-442f-cd51-c0266519692f"
      },
      "execution_count": null,
      "outputs": [
        {
          "output_type": "stream",
          "name": "stdout",
          "text": [
            "Mounted at /content/drive\n"
          ]
        }
      ]
    },
    {
      "cell_type": "code",
      "source": [
        "from llama_index.core.tools import QueryEngineTool, ToolMetadata\n",
        "from llama_index.core.query_engine import RouterQueryEngine\n",
        "from llama_index.core.selectors import LLMSingleSelector\n",
        "from llama_index.core import SimpleDirectoryReader\n",
        "from llama_index.core import StorageContext, load_index_from_storage\n",
        "from llama_index.core import VectorStoreIndex, SummaryIndex"
      ],
      "metadata": {
        "id": "fY04X58OGE9N"
      },
      "execution_count": null,
      "outputs": []
    },
    {
      "cell_type": "code",
      "source": [
        "# In order to avoid repeated calls to LLMs we can store the documents index and load it if present else create it\n",
        "PERSIST_INDEX_DIR = f\"/{data_dir}/RAG/data/\"\n",
        "def get_index(index_name, doc_file_path):\n",
        "  index = None\n",
        "  if not os.path.exists(f\"{PERSIST_INDEX_DIR}{index_name}/\"):\n",
        "    # Load the documents\n",
        "    documents = SimpleDirectoryReader(input_files=[doc_file_path]).load_data()\n",
        "    index = VectorStoreIndex.from_documents(documents)\n",
        "    # Store the index to disk\n",
        "    index.storage_context.persist(f\"{PERSIST_INDEX_DIR}{index_name}/\")\n",
        "  else: # Load index from disk\n",
        "    storage_context = StorageContext.from_defaults(persist_dir=f\"{PERSIST_INDEX_DIR}{index_name}/\")\n",
        "    index = load_index_from_storage(storage_context)\n",
        "\n",
        "  return index"
      ],
      "metadata": {
        "id": "VWrslIC4GJw-"
      },
      "execution_count": null,
      "outputs": []
    },
    {
      "cell_type": "code",
      "source": [
        "# Load OECD guidelines documents for Transfer Pricing\n",
        "docs_OECD_guidelines = SimpleDirectoryReader(f\"{data_dir}/RAG/data/OECD/\").load_data()\n",
        "# Load OECD guidelines documents for Form990\n",
        "docs_Form990_guidelines = SimpleDirectoryReader(f\"{data_dir}/RAG/data/Form990/\").load_data()"
      ],
      "metadata": {
        "id": "f-ZbbEzxGSzH"
      },
      "execution_count": null,
      "outputs": []
    },
    {
      "cell_type": "code",
      "source": [
        "#initialise a storage context and use that for both Vector Index and Summary Index for OECD\n",
        "oecd_nodes = Settings.node_parser.get_nodes_from_documents(docs_OECD_guidelines)\n",
        "form990_nodes = Settings.node_parser.get_nodes_from_documents(docs_Form990_guidelines)\n",
        "\n",
        "oecd_storage_context = StorageContext.from_defaults()\n",
        "\n",
        "oecd_storage_context.docstore.add_documents(oecd_nodes)\n",
        "oecd_storage_context.docstore.add_documents(form990_nodes)\n",
        "# Setup Vector and Summary Index from Storage Context\n",
        "oecd_summary_index = SummaryIndex(oecd_nodes, storage_context=oecd_storage_context)\n",
        "oecd_vector_index = VectorStoreIndex(oecd_nodes, storage_context=oecd_storage_context)\n",
        "\n",
        "# Setup Indices.In order to avoid repeated calls to LLMs we can store the documents index and load it if present else create it\n",
        "OECD_index = get_index(\"OECDTPGuidelines\",f\"{data_dir}/RAG/data/OECD/OECD_Transfer_Pricing_Guidelines.pdf\")\n",
        "form990_guidelines_index = get_index(\"Form990Guidelines\",f\"{data_dir}/RAG/data/Form990/Form990_Guidelines.pdf\")"
      ],
      "metadata": {
        "id": "hutBG-82GyeL"
      },
      "execution_count": null,
      "outputs": []
    },
    {
      "cell_type": "code",
      "source": [
        "from llama_index.core.tools import QueryEngineTool, ToolMetadata\n",
        "from llama_index.core.query_engine import RouterQueryEngine\n",
        "from llama_index.core.selectors import LLMSingleSelector\n",
        "# Create the query engines\n",
        "OECD_engine = OECD_index.as_query_engine(similarity_top_k=3)\n",
        "form990_guidelines_engine = form990_guidelines_index.as_query_engine(similarity_top_k=3)\n",
        "# Create tools for the query engines\n",
        "OECD_query_tool = QueryEngineTool(\n",
        "                      query_engine=OECD_engine,\n",
        "                      metadata=ToolMetadata(\n",
        "                          name=\"OECD_QueryEngineTool_2022\",\n",
        "                          description=\"Provides information about Transfer Pricing Guidelines for Organization from OECD for year 2022\"\n",
        "                      )\n",
        "                    )\n",
        "\n",
        "Form990_query_tool = QueryEngineTool(\n",
        "                      query_engine=form990_guidelines_engine,\n",
        "                      metadata=ToolMetadata(\n",
        "                          name=\"form990_2022\",\n",
        "                          description=\"Provides information about Form990 filling guidelines for Non-Profit Organi\"\n",
        "                      )\n",
        "                    )\n",
        "\n",
        "tools = [OECD_query_tool, Form990_query_tool]\n",
        "\n",
        "filing_engine = RouterQueryEngine(\n",
        "                      selector= LLMSingleSelector.from_defaults(),\n",
        "                      query_engine_tools=tools\n",
        "                      )"
      ],
      "metadata": {
        "id": "eF2CsXkzHBDF"
      },
      "execution_count": null,
      "outputs": []
    },
    {
      "cell_type": "code",
      "source": [
        "#Agentic Router RAG -\n",
        "from llama_index.agent.openai import OpenAIAgent\n",
        "agent = OpenAIAgent.from_tools(tools=tools, verbose=True)\n",
        "# Uncomment and use the below call for interactive session\n",
        "#agent.chat_repl()\n",
        "response = agent.chat(\"What is Form990 EZ and when should an organiaztion complete Form990 EZ form\")\n",
        "print (response)"
      ],
      "metadata": {
        "colab": {
          "base_uri": "https://localhost:8080/"
        },
        "id": "hlIsonI9Hlx6",
        "outputId": "1ee45093-e552-4676-d36a-40ad4c8e2ea5"
      },
      "execution_count": null,
      "outputs": [
        {
          "output_type": "stream",
          "name": "stdout",
          "text": [
            "Added user message to memory: What is Form990 EZ and when should an organiaztion complete Form990 EZ form\n",
            "=== Calling Function ===\n",
            "Calling function: form990_2022 with args: {\"input\":\"What is Form990 EZ and when should an organization complete Form990 EZ form?\"}\n",
            "Got output: Form 990-EZ is an annual information return that certain tax-exempt organizations, nonexempt charitable trusts, and section 527 political organizations can use to provide the IRS with required information. An organization should complete Form 990-EZ if it is exempt from income tax under section 501(a) and has gross receipts less than $200,000 and total assets less than $500,000 at the end of the tax year. This form is a simplified version of Form 990 and is intended for smaller organizations that meet these criteria.\n",
            "========================\n",
            "\n",
            "Form 990-EZ is an annual information return that certain tax-exempt organizations, nonexempt charitable trusts, and section 527 political organizations use to provide the IRS with required information. An organization should complete Form 990-EZ if it meets the following criteria:\n",
            "\n",
            "- It is exempt from income tax under section 501(a).\n",
            "- It has gross receipts of less than $200,000.\n",
            "- It has total assets of less than $500,000 at the end of the tax year.\n",
            "\n",
            "This form is a simplified version of Form 990 and is intended for smaller organizations that meet these criteria.\n"
          ]
        }
      ]
    },
    {
      "cell_type": "code",
      "source": [
        "from llama_index.agent.openai import OpenAIAssistantAgent\n",
        "agent = OpenAIAssistantAgent.from_new(\n",
        "          name = \"OECD and Form990 Agent\",\n",
        "          instructions= \"You are an assistant that provides answers to questions on OECD and Form990\",\n",
        "          tools=tools,\n",
        "          verbose=True,\n",
        "          run_retrieve_sleep_time=1.0\n",
        "        )\n",
        "response = agent.chat(\"What does Articles 9 and 25 of the OECD Model Tax Convention state?\")\n",
        "print (response)"
      ],
      "metadata": {
        "colab": {
          "base_uri": "https://localhost:8080/"
        },
        "id": "COLLlq4wJZZP",
        "outputId": "f9d0ac7f-452f-4c5d-c6c8-a64156a9872c"
      },
      "execution_count": null,
      "outputs": [
        {
          "output_type": "stream",
          "name": "stdout",
          "text": [
            "=== Calling Function ===\n",
            "Calling function: OECD_QueryEngineTool_2022 with args: {\"input\":\"Article 9\"}\n",
            "Got output: Article 9 addresses the issue of corresponding adjustments in the context of transfer pricing. It outlines that relief under this article may not be available if the time limit for making such adjustments, as specified by treaty or domestic law, has expired. While Article 9 does not define a specific time limit for making corresponding adjustments, different jurisdictions have varying approaches. Some may prefer an open-ended timeframe to mitigate double taxation, while others may find this approach unreasonable for administrative purposes. Consequently, the availability of relief can depend on whether the applicable treaty overrides domestic time limitations or establishes different time limits.\n",
            "========================\n",
            "=== Calling Function ===\n",
            "Calling function: OECD_QueryEngineTool_2022 with args: {\"input\":\"Article 25\"}\n",
            "Got output: Article 25 of the OECD Model Tax Convention outlines the mutual agreement procedure, which is a mechanism for tax administrations to consult and resolve disputes regarding the application of double tax conventions. It is designed to eliminate double taxation that may arise from transfer pricing adjustments. The article specifies three areas for the use of mutual agreement procedures: \n",
            "\n",
            "1. Taxation not in accordance with the provisions of the Convention, typically initiated by the taxpayer.\n",
            "2. Questions of interpretation or application of the Convention.\n",
            "3. Elimination of double taxation in cases not otherwise provided for in the Convention.\n",
            "\n",
            "Additionally, the 2008 update introduced a provision for arbitration if competent authorities cannot reach an agreement within two years, enhancing the effectiveness of the mutual agreement procedure. The procedure is not litigation, and while taxpayers can initiate it, they do not have a specific right to participate in the discussions between competent authorities.\n",
            "========================\n",
            "Article 9 of the OECD Model Tax Convention deals with associated enterprises, specifically addressing transfer pricing and corresponding adjustments. It emphasizes that where conditions between two associated enterprises in their commercial or financial relations differ from those that would prevail between independent enterprises, any profits which would have been accrued to one of the enterprises may be included in that enterprise's profits and taxed accordingly. However, Article 9 also provides for corresponding adjustments to prevent double taxation. It does not specify a time limit for making such adjustments, which is subject to treaty or domestic law, and can vary by jurisdiction.\n",
            "\n",
            "Article 25 of the OECD Model Tax Convention describes the mutual agreement procedure (MAP), a mechanism that enables tax authorities to resolve disputes regarding the application of double tax conventions to avoid double taxation, especially in the context of transfer pricing adjustments. The article covers:\n",
            "1. Situations where taxation is believed not to be in accordance with the provisions of the Convention.\n",
            "2. Questions of interpretation or application of the Convention.\n",
            "3. Cases of double taxation not covered by the Convention.\n",
            "\n",
            "Additionally, the 2008 update of Article 25 introduced arbitration as a means to resolve disputes if the competent authorities cannot reach an agreement within two years. The MAP is not a legal dispute but a governmental negotiation, with the taxpayer having the right to initiate the process but not necessarily participate in the negotiations between the authorities.\n"
          ]
        }
      ]
    },
    {
      "cell_type": "code",
      "source": [
        "from llama_index.core.tools import FunctionTool\n",
        "import requests\n",
        "from requests.auth import HTTPDigestAuth\n",
        "import json\n",
        "\n",
        "def call_form990API(param):\n",
        "  url = \"https://projects.propublica.org/nonprofits/api/v2/search.json?q=\"+param\n",
        "  apiResponse = requests.get(url, verify=True)\n",
        "  OrganizationData = json.loads(apiResponse.content)\n",
        "  return OrganizationData\n",
        "\n",
        "OrganizationData=call_form990API(\"north\")\n",
        "json_formatted_str = json.dumps(OrganizationData, indent=4)\n",
        "print(json_formatted_str)\n",
        "\n",
        "form990_function_tool = FunctionTool.from_defaults(fn=call_form990API)\n",
        "#tools = [call_form990API]\n",
        "# Create the Agent with our tools\n",
        "#agent = OpenAIAgent.from_tools(tools, verbose=True)\n",
        "#response = agent.query(\"North\")"
      ],
      "metadata": {
        "id": "IfHQA9GEWJUY"
      },
      "execution_count": null,
      "outputs": []
    },
    {
      "cell_type": "code",
      "source": [
        "#ReAct Agent\n",
        "from llama_index.core.agent import ReActAgent\n",
        "query_engine_tools = [OECD_query_tool, Form990_query_tool, form990_function_tool]\n",
        "agent = ReActAgent.from_tools(\n",
        "            tools= query_engine_tools,\n",
        "            verbose=True,\n",
        "            context=\"\"\"You are AI Tax Assistant. You will guide tax professionals for filling Form990 and answer queries related to Transfer Pricing based on the OECD guidelines.\"\"\"\n",
        "          )\n",
        "response = agent.query(\"Compare the Form990 Tax reporting process for Non Profit Organizations and Transfer Pricing methodologies used in identifying Intangibles used within Multinational Firms? If the analysis determines these process are for two different sectors then call the Form990 API with param north and include the results as part of the response\")\n",
        "print (response)"
      ],
      "metadata": {
        "colab": {
          "base_uri": "https://localhost:8080/"
        },
        "id": "bnslTf2WpmSM",
        "outputId": "9c21a146-d5a2-440f-c836-085a0a411e18"
      },
      "execution_count": null,
      "outputs": [
        {
          "output_type": "stream",
          "name": "stderr",
          "text": [
            "WARNING:llama_index.core.agent.react.formatter:ReActChatFormatter.from_context is deprecated, please use `from_defaults` instead.\n"
          ]
        },
        {
          "output_type": "stream",
          "name": "stdout",
          "text": [
            "> Running step fa67b128-0563-4391-b505-eb51942b3f1c. Step input: Compare the Form990 Tax reporting process for Non Profit Organizations and Transfer Pricing methodologies used in identifying Intangibles used within Multinational Firms? If the analysis determines these process are for two different sectors then call the Form990 API with param north and include the results as part of the response\n",
            "\u001b[1;3;38;5;200mThought: The current language of the user is: English. I need to analyze the Form 990 tax reporting process for Non-Profit Organizations and the Transfer Pricing methodologies for identifying intangibles in multinational firms. If they are determined to be for different sectors, I will call the Form990 API with the parameter \"north\" to include the results in my response.\n",
            "Action: form990_2022\n",
            "Action Input: {'input': 'Form 990 tax reporting process for Non-Profit Organizations'}\n",
            "\u001b[0m\u001b[1;3;34mObservation: Non-profit organizations must file Form 990 or Form 990-EZ annually with the IRS, depending on their gross receipts and total assets. Specifically, organizations exempt from income tax under section 501(a) are required to file if they have gross receipts of $200,000 or more, or total assets of $500,000 or more at the end of the tax year. \n",
            "\n",
            "The completed Form 990 includes various parts that report on the organization's activities, finances, governance, and compliance with federal tax requirements. Additional schedules may be required based on the organization's specific activities. \n",
            "\n",
            "Organizations must ensure that their Form 990 is publicly available, with certain exceptions for contributor information on Schedule B. It is important to avoid including social security numbers on the form, as these must not be disclosed publicly. \n",
            "\n",
            "For organizations with unrelated business income exceeding $1,000, Form 990-T must also be filed to report and pay taxes on that income. \n",
            "\n",
            "If assistance is needed in completing the form, organizations can contact the IRS toll-free for help.\n",
            "\u001b[0m> Running step 141694d7-8aa3-4b5a-ac2f-564ca73b63c9. Step input: None\n",
            "\u001b[1;3;38;5;200mThought: I have gathered information about the Form 990 tax reporting process for Non-Profit Organizations. Now, I need to analyze the Transfer Pricing methodologies used in identifying intangibles within multinational firms to compare the two processes.\n",
            "Action: OECD_QueryEngineTool_2022\n",
            "Action Input: {'input': 'Transfer Pricing methodologies for identifying intangibles in multinational firms'}\n",
            "\u001b[0m\u001b[1;3;34mObservation: Transfer pricing methodologies for identifying intangibles in multinational firms involve a detailed functional analysis to determine the relevant intangibles, their contribution to value creation, and the functions, risks, and assets associated with them. Key methodologies include:\n",
            "\n",
            "1. **Comparable Uncontrolled Price (CUP) Method**: This method compares the price charged in controlled transactions to the price charged in comparable uncontrolled transactions to establish an arm's length price for the intangible.\n",
            "\n",
            "2. **Transactional Profit Split Method**: This approach allocates profits among associated enterprises based on their relative contributions to the creation of value through the intangibles.\n",
            "\n",
            "3. **Cost-Based Approaches**: While generally discouraged, in limited circumstances, methods based on the estimated cost of reproducing or replacing the intangible may be applicable, particularly for internal business operations.\n",
            "\n",
            "4. **Functional Analysis**: This involves identifying the parties performing significant functions related to the intangibles, managing risks, and confirming the consistency between contractual arrangements and actual conduct.\n",
            "\n",
            "5. **Legal Rights and Contractual Terms**: The analysis starts with legal rights and contractual arrangements that outline the roles, responsibilities, and rights of associated enterprises concerning the intangibles.\n",
            "\n",
            "These methodologies emphasize the importance of specificity in identifying intangibles and ensuring that all relevant factors contributing to income generation are properly evaluated.\n",
            "\u001b[0m> Running step e09d7a43-31b9-4e84-83cc-a89f7c84156d. Step input: None\n",
            "\u001b[1;3;38;5;200mThought: I have gathered information on both the Form 990 tax reporting process for Non-Profit Organizations and the Transfer Pricing methodologies for identifying intangibles in multinational firms. It is clear that these processes pertain to two different sectors: non-profit organizations and multinational corporations. Therefore, I will call the Form990 API with the parameter \"north\" to include additional results in my response.\n",
            "Action: call_form990API\n",
            "Action Input: {'param': 'north'}\n",
            "\u001b[0m\u001b[1;3;34mObservation: {'total_results': 10000, 'organizations': [{'ein': 923516996, 'strein': '92-3516996', 'name': 'North', 'sub_name': 'North', 'city': 'Lakeland', 'state': 'FL', 'ntee_code': 'X20', 'raw_ntee_code': 'X20', 'subseccd': 3, 'has_subseccd': True, 'have_filings': None, 'have_extracts': None, 'have_pdfs': None, 'score': 42.2946}, {'ein': 833438531, 'strein': '83-3438531', 'name': 'Sail North', 'sub_name': 'Sail North', 'city': 'North Kingstown', 'state': 'RI', 'ntee_code': 'N99', 'raw_ntee_code': 'N99', 'subseccd': 3, 'has_subseccd': True, 'have_filings': None, 'have_extracts': None, 'have_pdfs': None, 'score': 42.017246}, {'ein': 753051583, 'strein': '75-3051583', 'name': 'North Chicago', 'sub_name': 'North Chicago', 'city': 'North Chicago', 'state': 'IL', 'ntee_code': None, 'raw_ntee_code': None, 'subseccd': 3, 'has_subseccd': True, 'have_filings': None, 'have_extracts': None, 'have_pdfs': None, 'score': 42.017246}, {'ein': 570865244, 'strein': '57-0865244', 'name': 'North Ph Church', 'sub_name': 'North Ph Church', 'city': 'North', 'state': 'SC', 'ntee_code': None, 'raw_ntee_code': None, 'subseccd': 3, 'has_subseccd': True, 'have_filings': None, 'have_extracts': None, 'have_pdfs': None, 'score': 39.716885}, {'ein': 571086318, 'strein': '57-1086318', 'name': 'North Augusta Forward', 'sub_name': 'North Augusta Forward', 'city': 'North Augusta', 'state': 'SC', 'ntee_code': 'P20', 'raw_ntee_code': 'P20', 'subseccd': 3, 'has_subseccd': True, 'have_filings': None, 'have_extracts': None, 'have_pdfs': None, 'score': 38.043022}, {'ein': 10130185, 'strein': '01-0130185', 'name': 'North Haven Casino', 'sub_name': 'North Haven Casino', 'city': 'North Haven', 'state': 'ME', 'ntee_code': None, 'raw_ntee_code': None, 'subseccd': 4, 'has_subseccd': True, 'have_filings': None, 'have_extracts': None, 'have_pdfs': None, 'score': 38.043022}, {'ein': 341274850, 'strein': '34-1274850', 'name': 'North Canton Playhouse', 'sub_name': 'North Canton Playhouse', 'city': 'North Canton', 'state': 'OH', 'ntee_code': 'A650', 'raw_ntee_code': 'A650', 'subseccd': 3, 'has_subseccd': True, 'have_filings': None, 'have_extracts': None, 'have_pdfs': None, 'score': 38.043022}, {'ein': 941662769, 'strein': '94-1662769', 'name': 'North Fork Boosters', 'sub_name': 'North Fork Boosters', 'city': 'North Fork', 'state': 'CA', 'ntee_code': 'S80', 'raw_ntee_code': 'S80', 'subseccd': 3, 'has_subseccd': True, 'have_filings': None, 'have_extracts': None, 'have_pdfs': None, 'score': 38.043022}, {'ein': 237214548, 'strein': '23-7214548', 'name': 'North Haledon Pto', 'sub_name': 'North Haledon Pto', 'city': 'North Haledon', 'state': 'NJ', 'ntee_code': 'B94Z', 'raw_ntee_code': 'B94Z', 'subseccd': 3, 'has_subseccd': True, 'have_filings': None, 'have_extracts': None, 'have_pdfs': None, 'score': 38.043022}, {'ein': 851750016, 'strein': '85-1750016', 'name': 'North Port Forward', 'sub_name': 'North Port Forward', 'city': 'North Port', 'state': 'FL', 'ntee_code': 'S20', 'raw_ntee_code': 'S20', 'subseccd': 3, 'has_subseccd': True, 'have_filings': None, 'have_extracts': None, 'have_pdfs': None, 'score': 38.043022}, {'ein': 990433821, 'strein': '99-0433821', 'name': 'North Babylon Assassins', 'sub_name': 'North Babylon Assassins', 'city': 'North Babylon', 'state': 'NY', 'ntee_code': 'N63', 'raw_ntee_code': 'N63', 'subseccd': 3, 'has_subseccd': True, 'have_filings': None, 'have_extracts': None, 'have_pdfs': None, 'score': 38.043022}, {'ein': 200058579, 'strein': '20-0058579', 'name': 'North Fork Studio', 'sub_name': 'North Fork Studio', 'city': 'North Fork', 'state': 'CA', 'ntee_code': 'S20', 'raw_ntee_code': 'S20', 'subseccd': 3, 'has_subseccd': True, 'have_filings': None, 'have_extracts': None, 'have_pdfs': None, 'score': 38.043022}, {'ein': 822787247, 'strein': '82-2787247', 'name': 'North Lawrence Claybusters', 'sub_name': 'North Lawrence Claybusters', 'city': 'North Lawrence', 'state': 'OH', 'ntee_code': 'N60', 'raw_ntee_code': 'N60', 'subseccd': 3, 'has_subseccd': True, 'have_filings': None, 'have_extracts': None, 'have_pdfs': None, 'score': 38.043022}, {'ein': 341441528, 'strein': '34-1441528', 'name': 'North Randall Seniors', 'sub_name': 'North Randall Seniors', 'city': 'North Randall', 'state': 'OH', 'ntee_code': None, 'raw_ntee_code': None, 'subseccd': 7, 'has_subseccd': True, 'have_filings': None, 'have_extracts': None, 'have_pdfs': None, 'score': 38.043022}, {'ein': 851114652, 'strein': '85-1114652', 'name': 'Tnr North Platte', 'sub_name': 'Tnr North Platte', 'city': 'North Platte', 'state': 'NE', 'ntee_code': 'D20', 'raw_ntee_code': 'D20', 'subseccd': 3, 'has_subseccd': True, 'have_filings': None, 'have_extracts': None, 'have_pdfs': None, 'score': 38.043022}, {'ein': 364924643, 'strein': '36-4924643', 'name': 'Tops North Berwick', 'sub_name': 'Tops North Berwick ', 'city': 'North Berwick', 'state': 'ME', 'ntee_code': None, 'raw_ntee_code': None, 'subseccd': 3, 'has_subseccd': True, 'have_filings': None, 'have_extracts': None, 'have_pdfs': None, 'score': 38.043022}, {'ein': 862215348, 'strein': '86-2215348', 'name': 'North Augusta Fellowship', 'sub_name': 'North Augusta Fellowship', 'city': 'North Augusta', 'state': 'SC', 'ntee_code': None, 'raw_ntee_code': None, 'subseccd': 3, 'has_subseccd': True, 'have_filings': None, 'have_extracts': None, 'have_pdfs': None, 'score': 38.043022}, {'ein': 841857091, 'strein': '84-1857091', 'name': 'North Port Warriors', 'sub_name': 'North Port Warriors', 'city': 'North Port', 'state': 'FL', 'ntee_code': 'N63', 'raw_ntee_code': 'N63', 'subseccd': 3, 'has_subseccd': True, 'have_filings': None, 'have_extracts': None, 'have_pdfs': None, 'score': 38.043022}, {'ein': 43785857, 'strein': '04-3785857', 'name': 'True North Church', 'sub_name': 'True North Church', 'city': 'North Augusta', 'state': 'SC', 'ntee_code': None, 'raw_ntee_code': None, 'subseccd': 3, 'has_subseccd': True, 'have_filings': None, 'have_extracts': None, 'have_pdfs': None, 'score': 38.043022}, {'ein': 834011547, 'strein': '83-4011547', 'name': 'North Fund', 'sub_name': 'North Fund', 'city': 'Washington', 'state': 'DC', 'ntee_code': 'W20', 'raw_ntee_code': 'W20', 'subseccd': 4, 'has_subseccd': True, 'have_filings': None, 'have_extracts': None, 'have_pdfs': None, 'score': 37.242016}, {'ein': 814749395, 'strein': '81-4749395', 'name': 'Pace North', 'sub_name': 'Pace North', 'city': 'Traverse City', 'state': 'MI', 'ntee_code': 'E32', 'raw_ntee_code': 'E32', 'subseccd': 3, 'has_subseccd': True, 'have_filings': None, 'have_extracts': None, 'have_pdfs': None, 'score': 37.242016}, {'ein': 911475182, 'strein': '91-1475182', 'name': 'North Helpline', 'sub_name': 'North Helpline', 'city': 'Seattle', 'state': 'WA', 'ntee_code': None, 'raw_ntee_code': None, 'subseccd': 3, 'has_subseccd': True, 'have_filings': None, 'have_extracts': None, 'have_pdfs': None, 'score': 37.242016}, {'ein': 237083593, 'strein': '23-7083593', 'name': '50 North', 'sub_name': '50 North', 'city': 'Findlay', 'state': 'OH', 'ntee_code': None, 'raw_ntee_code': None, 'subseccd': 3, 'has_subseccd': True, 'have_filings': None, 'have_extracts': None, 'have_pdfs': None, 'score': 37.242016}, {'ein': 920021800, 'strein': '92-0021800', 'name': 'Send North', 'sub_name': 'Send North', 'city': 'Anchorage', 'state': 'AK', 'ntee_code': 'X20', 'raw_ntee_code': 'X20', 'subseccd': 3, 'has_subseccd': True, 'have_filings': None, 'have_extracts': None, 'have_pdfs': None, 'score': 37.242016}, {'ein': 363357551, 'strein': '36-3357551', 'name': 'Devcorp North', 'sub_name': 'Devcorp North ', 'city': 'Chicago', 'state': 'IL', 'ntee_code': None, 'raw_ntee_code': None, 'subseccd': 3, 'has_subseccd': True, 'have_filings': None, 'have_extracts': None, 'have_pdfs': None, 'score': 37.242016}], 'num_pages': 400, 'cur_page': 0, 'page_offset': 0, 'per_page': 25, 'search_query': 'north', 'selected_state': None, 'selected_ntee': None, 'selected_code': None, 'data_source': 'ProPublica Nonprofit Explorer API: https://projects.propublica.org/nonprofits/api/\\nIRS Exempt Organizations Business Master File Extract (EO BMF): https://www.irs.gov/charities-non-profits/exempt-organizations-business-master-file-extract-eo-bmf\\nIRS Annual Extract of Tax-Exempt Organization Financial Data: https://www.irs.gov/uac/soi-tax-stats-annual-extract-of-tax-exempt-organization-financial-data', 'api_version': 2}\n",
            "\u001b[0m> Running step 0b93ae39-6f1e-46e0-a8a9-516de1bd508a. Step input: None\n",
            "\u001b[1;3;38;5;200mThought: I have successfully retrieved the results from the Form990 API with the parameter \"north.\" Now, I can summarize the comparison between the Form 990 tax reporting process for Non-Profit Organizations and the Transfer Pricing methodologies used in identifying intangibles within multinational firms.\n",
            "Answer: The Form 990 tax reporting process for Non-Profit Organizations and the Transfer Pricing methodologies for identifying intangibles in multinational firms are indeed processes that cater to two different sectors.\n",
            "\n",
            "1. **Form 990 Tax Reporting Process**:\n",
            "   - Non-profit organizations must file Form 990 or Form 990-EZ annually with the IRS based on their gross receipts and total assets.\n",
            "   - The form includes various parts that report on the organization's activities, finances, governance, and compliance with federal tax requirements.\n",
            "   - It is crucial for these organizations to ensure that their Form 990 is publicly available, with certain exceptions for contributor information.\n",
            "   - Organizations with unrelated business income exceeding $1,000 must also file Form 990-T.\n",
            "\n",
            "2. **Transfer Pricing Methodologies**:\n",
            "   - Transfer pricing methodologies focus on identifying intangibles within multinational firms through detailed functional analysis.\n",
            "   - Key methodologies include the Comparable Uncontrolled Price (CUP) method, Transactional Profit Split method, and cost-based approaches.\n",
            "   - These methodologies emphasize the importance of specificity in identifying intangibles and evaluating all relevant factors contributing to income generation.\n",
            "\n",
            "Since these processes serve different purposes and sectors, they are not directly comparable. \n",
            "\n",
            "Additionally, here are some organizations related to the search term \"north\" from the Form990 API results:\n",
            "- **North** (EIN: 92-3516996) located in Lakeland, FL\n",
            "- **Sail North** (EIN: 83-3438531) located in North Kingstown, RI\n",
            "- **North Chicago** (EIN: 75-3051583) located in North Chicago, IL\n",
            "- **North Ph Church** (EIN: 57-0865244) located in North, SC\n",
            "- **North Augusta Forward** (EIN: 57-1086318) located in North Augusta, SC\n",
            "\n",
            "These examples illustrate the diversity of non-profit organizations that may be filing Form 990.\n",
            "\u001b[0mThe Form 990 tax reporting process for Non-Profit Organizations and the Transfer Pricing methodologies for identifying intangibles in multinational firms are indeed processes that cater to two different sectors.\n",
            "\n",
            "1. **Form 990 Tax Reporting Process**:\n",
            "   - Non-profit organizations must file Form 990 or Form 990-EZ annually with the IRS based on their gross receipts and total assets.\n",
            "   - The form includes various parts that report on the organization's activities, finances, governance, and compliance with federal tax requirements.\n",
            "   - It is crucial for these organizations to ensure that their Form 990 is publicly available, with certain exceptions for contributor information.\n",
            "   - Organizations with unrelated business income exceeding $1,000 must also file Form 990-T.\n",
            "\n",
            "2. **Transfer Pricing Methodologies**:\n",
            "   - Transfer pricing methodologies focus on identifying intangibles within multinational firms through detailed functional analysis.\n",
            "   - Key methodologies include the Comparable Uncontrolled Price (CUP) method, Transactional Profit Split method, and cost-based approaches.\n",
            "   - These methodologies emphasize the importance of specificity in identifying intangibles and evaluating all relevant factors contributing to income generation.\n",
            "\n",
            "Since these processes serve different purposes and sectors, they are not directly comparable. \n",
            "\n",
            "Additionally, here are some organizations related to the search term \"north\" from the Form990 API results:\n",
            "- **North** (EIN: 92-3516996) located in Lakeland, FL\n",
            "- **Sail North** (EIN: 83-3438531) located in North Kingstown, RI\n",
            "- **North Chicago** (EIN: 75-3051583) located in North Chicago, IL\n",
            "- **North Ph Church** (EIN: 57-0865244) located in North, SC\n",
            "- **North Augusta Forward** (EIN: 57-1086318) located in North Augusta, SC\n",
            "\n",
            "These examples illustrate the diversity of non-profit organizations that may be filing Form 990.\n"
          ]
        }
      ]
    },
    {
      "cell_type": "code",
      "source": [
        "#One shot Query Planning\n",
        "from llama_index.core.query_engine import SubQuestionQueryEngine\n",
        "sub_question_query = \"Compare the Form990 Tax reporting process for Non Profit Organizations and Transfer Pricing methodologies used in identifying Intangibles used within a Multinational Firms?\"\n",
        "query_planning_engine = SubQuestionQueryEngine.from_defaults(\n",
        "                          query_engine_tools=tools,\n",
        "                          use_async=True\n",
        "                        )\n",
        "response = query_planning_engine.query(sub_question_query)\n",
        "print (response)"
      ],
      "metadata": {
        "colab": {
          "base_uri": "https://localhost:8080/"
        },
        "id": "iQjP1_JkNJb8",
        "outputId": "551d4a3d-0ede-4e1d-c3ad-5204af3e2ccf"
      },
      "execution_count": null,
      "outputs": [
        {
          "output_type": "stream",
          "name": "stdout",
          "text": [
            "Generated 4 sub questions.\n",
            "\u001b[1;3;38;2;237;90;200m[form990_2022] Q: What are the key differences in the Form990 tax reporting process for Non Profit Organizations in Central Jersey for the year 2022?\n",
            "\u001b[0m\u001b[1;3;38;2;90;149;237m[OECD_QueryEngineTool_2022] Q: What are the Transfer Pricing Guidelines provided by the OECD for identifying intangibles in multinational firms for the year 2022?\n",
            "\u001b[0m\u001b[1;3;38;2;11;159;203m[form990_2022] Q: How do Non Profit Organizations report their intangible assets in Form990 for the year 2022?\n",
            "\u001b[0m\u001b[1;3;38;2;155;135;227m[OECD_QueryEngineTool_2022] Q: What methodologies does the OECD recommend for valuing intangibles in Transfer Pricing for multinational firms?\n",
            "\u001b[0m\u001b[1;3;38;2;11;159;203m[form990_2022] A: Nonprofit organizations report their intangible assets on Line 14 of Form 990. They should enter the total value of all non-monetary, non-physical assets, which can include items such as copyrights, patents, trademarks, mailing lists, or goodwill. If the amount reported on this line is 5% or more of the amount reported on Part X, line 16, the organization must answer \"Yes\" on Part IV, line 11d, and complete Schedule D (Form 990), Part IX. The amount reported in Part X, line 15, column (B), must equal the total of Schedule D, Part IX, column (b).\n",
            "\u001b[0m\u001b[1;3;38;2;90;149;237m[OECD_QueryEngineTool_2022] A: The Transfer Pricing Guidelines provided by the OECD for identifying intangibles in multinational firms in 2022 include revised guidance on the application of the transactional profit method and specific guidance for tax administrations on the approach to hard-to-value intangibles. This guidance was initially agreed upon in 2018 and aims to assist in the valuation of intangibles in cross-border transactions between associated enterprises. Additionally, the guidelines emphasize the importance of applying the arm’s length principle to ensure that the taxable profits reported by multinational enterprises reflect the economic activities undertaken in their jurisdictions.\n",
            "\u001b[0m\u001b[1;3;38;2;155;135;227m[OECD_QueryEngineTool_2022] A: The OECD recommends several methodologies for valuing intangibles in transfer pricing for multinational firms. The most likely useful methods include the Comparable Uncontrolled Price (CUP) method and the transactional profit split method. Additionally, any of the five OECD transfer pricing methods may be appropriate depending on the specific circumstances of the case. It is also emphasized that a functional analysis should be conducted to understand the global business processes and how the transferred intangibles interact with other functions, assets, and risks. This analysis should consider all factors contributing to value creation, not just the intangibles themselves.\n",
            "\u001b[0m\u001b[1;3;38;2;237;90;200m[form990_2022] A: The Form 990 tax reporting process for Nonprofit Organizations in Central Jersey for the year 2022 involves several key considerations:\n",
            "\n",
            "1. **State-Specific Requirements**: Organizations must be aware that state or local filing requirements may differ from federal requirements. This includes the possibility of needing to attach additional financial statements or reports that are not required by the IRS.\n",
            "\n",
            "2. **Monetary Thresholds**: The dollar limitations that apply to Form 990 or 990-EZ for IRS filing may not align with state requirements. For instance, the typical $50,000 gross receipts minimum for IRS filing may not apply at the state level.\n",
            "\n",
            "3. **Reporting Method**: Many states require that amounts be reported based on the accrual method of accounting, even if the organization uses a different method for its internal records. This means that organizations may need to prepare their Form 990 differently for state reporting.\n",
            "\n",
            "4. **Donated Services and Facilities**: There are restrictions on how donated services and facilities can be reported. Many states and the IRS do not allow these amounts to be included in certain parts of Form 990.\n",
            "\n",
            "5. **Amended Returns**: If an organization submits an amended Form 990 or supplemental information to the IRS, it must also provide a copy to any state where it filed the original Form 990 or 990-EZ.\n",
            "\n",
            "6. **Reconciliation of Differences**: Organizations must maintain a reconciliation of any differences between their internal accounting records and the Form 990 filed, especially if audited financial statements are involved.\n",
            "\n",
            "These factors highlight the importance of understanding both federal and state-specific requirements when preparing Form 990 for nonprofit organizations in Central Jersey.\n",
            "\u001b[0mThe Form 990 tax reporting process for nonprofit organizations and the transfer pricing methodologies for identifying intangibles in multinational firms serve different purposes and involve distinct approaches.\n",
            "\n",
            "In the Form 990 process, nonprofit organizations focus on reporting their financial activities, including the valuation of intangible assets. They must adhere to specific state and federal requirements, including how to report donated services and facilities, and maintain reconciliations between internal records and the filed Form 990. The reporting of intangible assets occurs on Line 14, where organizations must disclose the total value of non-physical assets, and additional disclosures are required if these assets represent a significant portion of their total assets.\n",
            "\n",
            "Conversely, the transfer pricing methodologies recommended for multinational firms emphasize the valuation of intangibles in cross-border transactions. The OECD suggests methods such as the Comparable Uncontrolled Price (CUP) method and the transactional profit split method, along with a functional analysis to assess how intangibles interact with other business functions and risks. This approach aims to ensure that the taxable profits reflect the economic activities undertaken in different jurisdictions.\n",
            "\n",
            "Overall, while Form 990 focuses on compliance and transparency in financial reporting for nonprofits, transfer pricing methodologies are concerned with accurately valuing intangibles to align with the arm’s length principle in multinational operations.\n"
          ]
        }
      ]
    }
  ]
}